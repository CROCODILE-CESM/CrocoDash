{
 "cells": [
  {
   "cell_type": "markdown",
   "metadata": {},
   "source": [
    "# Set up a low res three boundary regional CESM-MOM6 run\n",
    "\n",
    "A typical workflow of utilizing CrocoDash consists of four main steps:\n",
    "\n",
    "1. Generate a regional MOM6 domain.\n",
    "2. Create the CESM case.\n",
    "3. Prepare ocean forcing data.\n",
    "4. Build and run the case."
   ]
  },
  {
   "cell_type": "markdown",
   "metadata": {},
   "source": [
    "# SECTION 1: Generate a regional MOM6 domain\n",
    "\n",
    "We begin by defining a regional MOM6 domain using CrocoDash. To do so, we first carve out a subdomain from a 1/12 degree global grid. We then generate the topography by remapping an existing bathymetric dataset to our horizontal grid. Finally, we define a vertical grid."
   ]
  },
  {
   "cell_type": "markdown",
   "metadata": {},
   "source": [
    "## Step 1.1: Horizontal Grid\n",
    "\n",
    "Extract a subgrid from a global grid using the `subgrid_from_supergrid` method:"
   ]
  },
  {
   "cell_type": "code",
   "execution_count": 1,
   "metadata": {},
   "outputs": [],
   "source": [
    "from CrocoDash.grid import Grid\n",
    "\n",
    "grid = Grid.subgrid_from_supergrid(\n",
    "    path = \"/glade/p/cesmdata/cseg/inputdata/ocn/mom/tx2_3v2/ocean_hgrid_221123.nc\",  # supergrid\n",
    "    llc = (15, -99),  # (l)ower (l)eft (c)orner coords\n",
    "    urc = (30, -80.),  # (u)pper (r)ight (c)orner coords\n",
    "    name = \"little_nwa12\"\n",
    ")"
   ]
  },
  {
   "cell_type": "markdown",
   "metadata": {},
   "source": [
    "## Step 1.2: Topography"
   ]
  },
  {
   "cell_type": "code",
   "execution_count": 2,
   "metadata": {},
   "outputs": [],
   "source": [
    "from CrocoDash.topo import Topo\n",
    "\n",
    "topo = Topo(\n",
    "    grid = grid,\n",
    "    min_depth = 9.5,\n",
    ")"
   ]
  },
  {
   "cell_type": "code",
   "execution_count": 3,
   "metadata": {},
   "outputs": [
    {
     "name": "stdout",
     "output_type": "stream",
     "text": [
      "If bathymetry setup fails, rerun this function with write_to_file = True\n",
      "Begin regridding bathymetry...\n",
      "\n",
      "Original bathymetry size: 2.41 Mb\n",
      "Regridded size: 0.02 Mb\n",
      "Automatic regridding may fail if your domain is too big! If this process hangs or crashes,make sure function argument write_to_file = True and,open a terminal with appropriate computational and resources try calling ESMF directly in the input directory None via\n",
      "\n",
      "`mpirun -np NUMBER_OF_CPUS ESMF_Regrid -s bathymetry_original.nc -d bathymetry_unfinished.nc -m bilinear --src_var depth --dst_var depth --netcdf4 --src_regional --dst_regional`\n",
      "\n",
      "For details see https://xesmf.readthedocs.io/en/latest/large_problems_on_HPC.html\n",
      "\n",
      "Afterwards, we run the 'expt.tidy_bathymetry' method to skip the expensive interpolation step, and finishing metadata, encoding and cleanup.\n",
      "\n",
      "\n",
      "\n",
      "Regridding successful! Now calling `tidy_bathymetry` method for some finishing touches...\n",
      "setup bathymetry has finished successfully.\n",
      "Tidy bathymetry: Reading in regridded bathymetry to fix up metadata...done. Filling in inland lakes and channels... "
     ]
    }
   ],
   "source": [
    "bathymetry_path='/glade/work/altuntas/croc/input/GEBCO_2024_coarse_x8.nc'\n",
    "\n",
    "topo.interpolate_from_file(\n",
    "    file_path = bathymetry_path,\n",
    "    longitude_coordinate_name=\"lon\",\n",
    "    latitude_coordinate_name=\"lat\",\n",
    "    vertical_coordinate_name=\"elevation\"\n",
    ")"
   ]
  },
  {
   "cell_type": "code",
   "execution_count": 4,
   "metadata": {},
   "outputs": [
    {
     "data": {
      "text/plain": [
       "<matplotlib.collections.QuadMesh at 0x148860630f50>"
      ]
     },
     "execution_count": 4,
     "metadata": {},
     "output_type": "execute_result"
    },
    {
     "data": {
      "image/png": "[encoded data removed]",
      "text/plain": [
       "<Figure size 640x480 with 2 Axes>"
      ]
     },
     "metadata": {},
     "output_type": "display_data"
    }
   ],
   "source": [
    "topo.depth.plot()"
   ]
  },
  {
   "cell_type": "code",
   "execution_count": 5,
   "metadata": {},
   "outputs": [
    {
     "data": {
      "application/vnd.jupyter.widget-view+json": {
       "model_id": "b602424151844cbfbedba977171c6e50",
       "version_major": 2,
       "version_minor": 0
      },
      "text/plain": [
       "TopoEditor(children=(VBox(children=(HTML(value='<h2>Topo Editor</h2>'), HTML(value='<hr><h3>Display</h3>'), To…"
      ]
     },
     "execution_count": 5,
     "metadata": {},
     "output_type": "execute_result"
    }
   ],
   "source": [
    "# Erase Pacific -> Go to Basinmask, Select basin you want to keep (Atlantic), press the erase disconnected basin button to erase the pacific\n",
    "%matplotlib ipympl\n",
    "from CrocoDash.topo_editor import TopoEditor\n",
    "topo.depth[\"units\"] = \"m\" # Short term bug fix\n",
    "TopoEditor(topo)\n"
   ]
  },
  {
   "cell_type": "markdown",
   "metadata": {},
   "source": [
    "## Step 1.3: Vertical Grid"
   ]
  },
  {
   "cell_type": "code",
   "execution_count": 6,
   "metadata": {},
   "outputs": [],
   "source": [
    "from CrocoDash.vgrid import VGrid\n",
    "\n",
    "vgrid  = VGrid.hyperbolic(\n",
    "    nk = 75,\n",
    "    depth = topo.max_depth,\n",
    "    ratio=20.0\n",
    ")"
   ]
  },
  {
   "cell_type": "markdown",
   "metadata": {},
   "source": [
    "# SECTION 2: Create the CESM case\n",
    "\n",
    "After generating the MOM6 domain, the next step is to create a CESM case using CrocoDash. This process is straightforward and involves instantiating the CrocoDash Case object. The Case object requires the following inputs:\n",
    "\n",
    " - CESM Source Directory: A local path to a compatible CESM source copy.\n",
    " - Case Name: A unique name for the CESM case.\n",
    " - Input Directory: The directory where all necessary input files will be written.\n",
    " - MOM6 Domain Objects: The horizontal grid, topography, and vertical grid created in the previous section.\n",
    " - Project ID: (Optional) A project ID, if required by the machine."
   ]
  },
  {
   "cell_type": "code",
   "execution_count": 11,
   "metadata": {},
   "outputs": [],
   "source": [
    "from pathlib import Path"
   ]
  },
  {
   "cell_type": "code",
   "execution_count": 12,
   "metadata": {},
   "outputs": [],
   "source": [
    "# CESM case (experiment) name\n",
    "casename = \"little-nwa-three-boundary-t232\"\n",
    "\n",
    "# CESM source root (Update this path accordingly!!!)\n",
    "cesmroot = \"/glade/work/akwong/installs/CESM\"\n",
    "\n",
    "# Place where all your input files go \n",
    "inputdir = Path.home()  / \"croc_input\" / casename\n",
    "    \n",
    "# CESM case directory\n",
    "caseroot =  Path.home() / \"croc_cases\" / casename"
   ]
  },
  {
   "cell_type": "markdown",
   "metadata": {},
   "source": [
    "## Step 2.2: Create the Case\n",
    "\n",
    "To create the CESM case, instantiate the `Case` object as shown below. This will automatically set up the CESM case based on the provided inputs: The `cesmroot` argument specifies the path to your local CESM source directory.\n",
    "The `caseroot` argument defines the directory where the case will be created. CrocoDash will handle all necessary namelist modifications and XML changes to align with the MOM6 domain objects generated earlier."
   ]
  },
  {
   "cell_type": "code",
   "execution_count": 13,
   "metadata": {},
   "outputs": [
    {
     "name": "stderr",
     "output_type": "stream",
     "text": [
      "INFO:  csp_solver:CspSolver initialized.\n"
     ]
    },
    {
     "name": "stdout",
     "output_type": "stream",
     "text": [
      "\u001b[01;96mCreating case...\u001b[0m\n",
      "\n",
      "• Updating ccs_config/modelgrid_aliases_nuopc.xml file to include the new resolution \"little-nwa-three-boundary-t232\" consisting of the following component grids.\n",
      " atm grid: \"TL319\", lnd grid: \"TL319\", ocn grid: \"little_nwa12\".\n",
      "\n",
      "• Updating ccs_config/component_grids_nuopc.xml file to include newly generated ocean grid \"little_nwa12\" with the following properties:\n",
      " nx: 29, ny: 26. ocean mesh: /glade/u/home/akwong/croc_input/little-nwa-three-boundary-t232/ocnice/ESMF_mesh_little_nwa12_c62066.nc.\u001b[0m\n",
      "\n",
      "\u001b[01;96mRunning the create_newcase tool with the following command:\u001b[0m\n",
      "\n",
      "/glade/work/akwong/installs/CESM/cime/scripts/create_newcase --compset 1850_DATM%JRA_SLND_SICE_MOM6_SROF_SGLC_SWAV --res little-nwa-three-boundary-t232 --case /glade/u/home/akwong/croc_cases/little-nwa-three-boundary-t232 --machine derecho --run-unsupported --project NCGD0011 --ninst 2 --non-local \n",
      "\n",
      "\u001b[01;96mThe create_newcase command was successful.\u001b[0m\n",
      "\n",
      "\u001b[01;96mNavigating to the case directory:\u001b[0m\n",
      "\n",
      "cd /glade/u/home/akwong/croc_cases/little-nwa-three-boundary-t232\n",
      "\n",
      "\u001b[01;96mApply NTASK grid xml changes:\u001b[0m\n",
      "\n",
      "./xmlchange NTASKS_OCN=12 --non-local\n",
      "\n",
      "\u001b[01;96mRunning the case.setup script with the following command:\u001b[0m\n",
      "\n",
      "./case.setup --non-local\n",
      "\n",
      "\u001b[01;96mAdding parameter changes to user_nl_mom_0001:\u001b[0m\n",
      "\n",
      "  ! Custom Horizonal Grid, Topography, and Vertical Grid\n",
      "  INPUTDIR = /glade/u/home/akwong/croc_input/little-nwa-three-boundary-t232/ocnice\n",
      "  TRIPOLAR_N = False\n",
      "  REENTRANT_X = False\n",
      "  REENTRANT_Y = False\n",
      "  NIGLOBAL = 29\n",
      "  NJGLOBAL = 26\n",
      "  GRID_CONFIG = mosaic\n",
      "  GRID_FILE = ocean_hgrid_little_nwa12_c62066.nc\n",
      "  TOPO_CONFIG = file\n",
      "  TOPO_FILE = ocean_topog_little_nwa12_c62066.nc\n",
      "  MAXIMUM_DEPTH = 6849.740428972226\n",
      "  MINIMUM_DEPTH = 9.5\n",
      "  NK = 75\n",
      "  COORD_CONFIG = none\n",
      "  ALE_COORDINATE_CONFIG = FILE:ocean_vgrid_little_nwa12_c62066.nc\n",
      "  REGRIDDING_COORDINATE_MODE = Z*\n",
      "\n",
      "\u001b[01;96mAdding parameter changes to user_nl_mom_0002:\u001b[0m\n",
      "\n",
      "  ! Custom Horizonal Grid, Topography, and Vertical Grid\n",
      "  INPUTDIR = /glade/u/home/akwong/croc_input/little-nwa-three-boundary-t232/ocnice\n",
      "  TRIPOLAR_N = False\n",
      "  REENTRANT_X = False\n",
      "  REENTRANT_Y = False\n",
      "  NIGLOBAL = 29\n",
      "  NJGLOBAL = 26\n",
      "  GRID_CONFIG = mosaic\n",
      "  GRID_FILE = ocean_hgrid_little_nwa12_c62066.nc\n",
      "  TOPO_CONFIG = file\n",
      "  TOPO_FILE = ocean_topog_little_nwa12_c62066.nc\n",
      "  MAXIMUM_DEPTH = 6849.740428972226\n",
      "  MINIMUM_DEPTH = 9.5\n",
      "  NK = 75\n",
      "  COORD_CONFIG = none\n",
      "  ALE_COORDINATE_CONFIG = FILE:ocean_vgrid_little_nwa12_c62066.nc\n",
      "  REGRIDDING_COORDINATE_MODE = Z*\n",
      "\n",
      "  ! Timesteps (based on grid resolution)\n",
      "  DT = 300.0\n",
      "  DT_THERM = 900.0\n",
      "\n",
      "  ! Timesteps (based on grid resolution)\n",
      "  DT = 300.0\n",
      "  DT_THERM = 900.0\n",
      "\n"
     ]
    },
    {
     "name": "stderr",
     "output_type": "stream",
     "text": [
      "INFO:\tstage:SUCCESS: All stages are complete.\n"
     ]
    },
    {
     "name": "stdout",
     "output_type": "stream",
     "text": [
      "\u001b[1;32mCase created successfully at /glade/u/home/akwong/croc_cases/little-nwa-three-boundary-t232.\u001b[0m\n",
      "\n",
      "\u001b[01;96mTo further customize, build, and run the case, navigate to the case directory in your terminal. To create another case, restart the notebook.\u001b[0m\n",
      "\n"
     ]
    }
   ],
   "source": [
    "from CrocoDash.case import Case\n",
    "\n",
    "case = Case(\n",
    "    cesmroot = cesmroot,\n",
    "    caseroot = caseroot,\n",
    "    inputdir = inputdir,\n",
    "    machine=\"derecho\",\n",
    "    ocn_grid = grid,\n",
    "    ocn_vgrid = vgrid,\n",
    "    ocn_topo = topo,\n",
    "    project = 'NCGD0011',\n",
    "    override = True,\n",
    "    ninst = 2,\n",
    ")"
   ]
  },
  {
   "cell_type": "markdown",
   "metadata": {},
   "source": [
    "# Section 3: Prepare ocean forcing data\n",
    "\n",
    "We need to cut out our ocean forcing. The package expects an initial condition and one time-dependent segment per non-land boundary. Naming convention is `\"east_unprocessed\"` for segments and `\"ic_unprocessed\"` for the initial condition.\n",
    "\n",
    "In this notebook, we are forcing with the Copernicus Marine \"Glorys\" reanalysis dataset. There's a function in the `CrocoDash` package, called `configure_forcings`, that generates a bash script to download the correct boundary forcing files for your experiment. First, you will need to create an account with Copernicus, and then call `copernicusmarine login` to set up your login details on your machine. Then you can run the `get_glorys_data.sh` bash script.\n",
    "\n",
    "## Step 3.1 Configure Initial Conditions and Forcings\n"
   ]
  },
  {
   "cell_type": "code",
   "execution_count": 21,
   "metadata": {},
   "outputs": [
    {
     "name": "stdout",
     "output_type": "stream",
     "text": [
      "2025-05-30 21:21:43,534 - CrocoDash.raw_data_access.driver.load_functions - INFO - Functions have already been loaded. To reload, set self._loaded_functions to False\n"
     ]
    },
    {
     "name": "stderr",
     "output_type": "stream",
     "text": [
      "INFO:CrocoDash.raw_data_access.driver:Functions have already been loaded. To reload, set self._loaded_functions to False\n",
      "INFO:CrocoDash.raw_data_access.datasets.glorys:This data access method retuns a script at path /glade/derecho/scratch/akwong/tmp/tmpwe1dw049/get_glorys_data.sh to run to get access data \n",
      "INFO:CrocoDash.raw_data_access.datasets.glorys:This data access method retuns a script at path /glade/u/home/akwong/croc_input/little-nwa-three-boundary-t232/glorys/get_glorys_data.sh to run to get access data \n",
      "INFO:CrocoDash.raw_data_access.datasets.glorys:This data access method retuns a script at path /glade/u/home/akwong/croc_input/little-nwa-three-boundary-t232/glorys/get_glorys_data.sh to run to get access data \n",
      "INFO:CrocoDash.raw_data_access.datasets.glorys:This data access method retuns a script at path /glade/u/home/akwong/croc_input/little-nwa-three-boundary-t232/glorys/get_glorys_data.sh to run to get access data \n",
      "INFO:CrocoDash.raw_data_access.datasets.glorys:This data access method retuns a script at path /glade/u/home/akwong/croc_input/little-nwa-three-boundary-t232/glorys/get_glorys_data.sh to run to get access data \n"
     ]
    },
    {
     "name": "stdout",
     "output_type": "stream",
     "text": [
      "Warning: Minimum depth of 9.5m is less than the depth of the third interface (18.06914528508434m)!\n",
      "This means that some areas may only have one or two layers between the surface and sea floor. \n",
      "For increased stability, consider increasing the minimum depth, or adjusting the vertical coordinate to add more layers near the surface.\n"
     ]
    }
   ],
   "source": [
    "tidal_data_dir = Path(\"/glade/u/home/manishrv/scratch/ice/croc/tpxo\")\n",
    "\n",
    "case.configure_forcings(\n",
    "    date_range = [\"2020-01-01 00:00:00\", \"2020-02-01 00:00:00\"],\n",
    "    boundaries = [\"south\", \"north\",\"east\"], \n",
    "    tidal_constituents = ['M2'],\n",
    "    tpxo_elevation_filepath = tidal_data_dir / \"h_tpxo9.v1.nc\",\n",
    "    tpxo_velocity_filepath = tidal_data_dir / \"u_tpxo9.v1.nc\",\n",
    ")"
   ]
  },
  {
   "cell_type": "markdown",
   "metadata": {},
   "source": [
    "## Step 3.2 Run `get_glorys_data.sh`\n",
    "\n",
    "In a terminal session, locate the `get_glorys_data.sh` script and execute it to download the initial conditions and boundary conditions. Follow the instructions printed by the `configure_forcings` method above.\n"
   ]
  },
  {
   "cell_type": "markdown",
   "metadata": {},
   "source": [
    "**TODO:** user copernicusmarine python API within CrocoDash, instead of directing users to run it via CLI. Also, on a derecho login node, both CLI and API fails to run due to the computational demand. We also need to address that."
   ]
  },
  {
   "cell_type": "markdown",
   "metadata": {},
   "source": [
    "##  Step 3.3: Process forcing data\n",
    "\n",
    "In this final step, we call the `process_forcings` method of CrocoDash to cut out and interpolate the initial condition as well as all boundaries. CrocoDash also updates MOM6 runtime parameters and CESM xml variables accordingly."
   ]
  },
  {
   "cell_type": "code",
   "execution_count": 22,
   "metadata": {},
   "outputs": [
    {
     "name": "stderr",
     "output_type": "stream",
     "text": [
      "INFO:regional_mom6.regridding:Getting t points..\n",
      "INFO:regional_mom6.regridding:Creating Regridder\n",
      "INFO:regional_mom6.regridding:Creating Regridder\n",
      "INFO:regional_mom6.regridding:Creating Regridder\n",
      "INFO:regional_mom6.rotation:Getting rotation angle\n",
      "INFO:regional_mom6.rotation:Calculating grid rotation angle\n",
      "INFO:regional_mom6.regridding:Getting u points..\n",
      "INFO:regional_mom6.regridding:Getting v points..\n"
     ]
    },
    {
     "name": "stdout",
     "output_type": "stream",
     "text": [
      "Setting up Initial Conditions\n",
      "Regridding Velocities... Done.\n",
      "Regridding Tracers... Done.\n",
      "Regridding Free surface... Done.\n",
      "Saving outputs... "
     ]
    },
    {
     "name": "stderr",
     "output_type": "stream",
     "text": [
      "INFO:regional_mom6.regridding:Creating coordinates of the boundary q/u/v points\n",
      "INFO:regional_mom6.regridding:Creating Regridder\n",
      "WARNING:regional_mom6.regridding:Using existing weights file at /glade/u/home/akwong/croc_input/little-nwa-three-boundary-t232/ocnice/weights/bilinear_velocity_weights_south.nc to save computing time. Delete weights file to regenerate weights.\n",
      "INFO:regional_mom6.rotation:Getting rotation angle\n",
      "INFO:regional_mom6.rotation:Calculating grid rotation angle\n",
      "INFO:regional_mom6.regridding:Creating coordinates of the boundary q/u/v points\n"
     ]
    },
    {
     "name": "stdout",
     "output_type": "stream",
     "text": [
      "done setting up initial condition.\n",
      "NOTE: the 'setup_run_directories' method does understand the less than four boundaries but be careful. Please check the MOM_input/override file carefully to reflect the number of boundaries you have, and their orientations. You should be able to find the relevant section in the MOM_input/override file by searching for 'segment_'. Ensure that the segment names match those in your inputdir/forcing folder\n",
      "Processing south boundary velocity & tracers..."
     ]
    },
    {
     "name": "stderr",
     "output_type": "stream",
     "text": [
      "INFO:regional_mom6.regridding:Filling in missing data horizontally, then vertically\n",
      "INFO:regional_mom6.regridding:Adding time dimension\n",
      "INFO:regional_mom6.regridding:Renaming vertical coordinate to nz_... in salt_segment_001\n",
      "INFO:regional_mom6.regridding:Replacing old depth coordinates with incremental integers\n",
      "INFO:regional_mom6.regridding:Adding perpendicular dimension to salt_segment_001\n",
      "INFO:regional_mom6.regridding:Renaming vertical coordinate to nz_... in temp_segment_001\n",
      "INFO:regional_mom6.regridding:Replacing old depth coordinates with incremental integers\n",
      "INFO:regional_mom6.regridding:Adding perpendicular dimension to temp_segment_001\n",
      "INFO:regional_mom6.regridding:Renaming vertical coordinate to nz_... in u_segment_001\n",
      "INFO:regional_mom6.regridding:Replacing old depth coordinates with incremental integers\n",
      "INFO:regional_mom6.regridding:Adding perpendicular dimension to u_segment_001\n",
      "INFO:regional_mom6.regridding:Renaming vertical coordinate to nz_... in v_segment_001\n",
      "INFO:regional_mom6.regridding:Replacing old depth coordinates with incremental integers\n",
      "INFO:regional_mom6.regridding:Adding perpendicular dimension to v_segment_001\n",
      "INFO:regional_mom6.regridding:Adding perpendicular dimension to eta_segment_001\n",
      "WARNING:regional_mom6.regridding:All NaNs filled b/c bathymetry wasn't provided to the function. Add bathymetry_path to the segment class to avoid this\n",
      "INFO:regional_mom6.regridding:Generating encoding dictionary\n"
     ]
    },
    {
     "name": "stdout",
     "output_type": "stream",
     "text": [
      "Done.\n",
      "Processing north boundary velocity & tracers..."
     ]
    },
    {
     "name": "stderr",
     "output_type": "stream",
     "text": [
      "INFO:regional_mom6.regridding:Creating coordinates of the boundary q/u/v points\n",
      "INFO:regional_mom6.regridding:Creating Regridder\n",
      "WARNING:regional_mom6.regridding:Using existing weights file at /glade/u/home/akwong/croc_input/little-nwa-three-boundary-t232/ocnice/weights/bilinear_velocity_weights_north.nc to save computing time. Delete weights file to regenerate weights.\n",
      "INFO:regional_mom6.rotation:Getting rotation angle\n",
      "INFO:regional_mom6.rotation:Calculating grid rotation angle\n",
      "INFO:regional_mom6.regridding:Creating coordinates of the boundary q/u/v points\n",
      "INFO:regional_mom6.regridding:Filling in missing data horizontally, then vertically\n",
      "INFO:regional_mom6.regridding:Adding time dimension\n",
      "INFO:regional_mom6.regridding:Renaming vertical coordinate to nz_... in salt_segment_002\n",
      "INFO:regional_mom6.regridding:Replacing old depth coordinates with incremental integers\n",
      "INFO:regional_mom6.regridding:Adding perpendicular dimension to salt_segment_002\n",
      "INFO:regional_mom6.regridding:Renaming vertical coordinate to nz_... in temp_segment_002\n",
      "INFO:regional_mom6.regridding:Replacing old depth coordinates with incremental integers\n",
      "INFO:regional_mom6.regridding:Adding perpendicular dimension to temp_segment_002\n",
      "INFO:regional_mom6.regridding:Renaming vertical coordinate to nz_... in u_segment_002\n",
      "INFO:regional_mom6.regridding:Replacing old depth coordinates with incremental integers\n",
      "INFO:regional_mom6.regridding:Adding perpendicular dimension to u_segment_002\n",
      "INFO:regional_mom6.regridding:Renaming vertical coordinate to nz_... in v_segment_002\n",
      "INFO:regional_mom6.regridding:Replacing old depth coordinates with incremental integers\n",
      "INFO:regional_mom6.regridding:Adding perpendicular dimension to v_segment_002\n",
      "INFO:regional_mom6.regridding:Adding perpendicular dimension to eta_segment_002\n",
      "WARNING:regional_mom6.regridding:All NaNs filled b/c bathymetry wasn't provided to the function. Add bathymetry_path to the segment class to avoid this\n",
      "INFO:regional_mom6.regridding:Generating encoding dictionary\n",
      "INFO:regional_mom6.regridding:Creating coordinates of the boundary q/u/v points\n",
      "INFO:regional_mom6.regridding:Creating Regridder\n",
      "WARNING:regional_mom6.regridding:Using existing weights file at /glade/u/home/akwong/croc_input/little-nwa-three-boundary-t232/ocnice/weights/bilinear_velocity_weights_east.nc to save computing time. Delete weights file to regenerate weights.\n",
      "INFO:regional_mom6.rotation:Getting rotation angle\n",
      "INFO:regional_mom6.rotation:Calculating grid rotation angle\n",
      "INFO:regional_mom6.regridding:Creating coordinates of the boundary q/u/v points\n",
      "INFO:regional_mom6.regridding:Filling in missing data horizontally, then vertically\n",
      "INFO:regional_mom6.regridding:Adding time dimension\n",
      "INFO:regional_mom6.regridding:Renaming vertical coordinate to nz_... in salt_segment_003\n",
      "INFO:regional_mom6.regridding:Replacing old depth coordinates with incremental integers\n",
      "INFO:regional_mom6.regridding:Adding perpendicular dimension to salt_segment_003\n",
      "INFO:regional_mom6.regridding:Renaming vertical coordinate to nz_... in temp_segment_003\n",
      "INFO:regional_mom6.regridding:Replacing old depth coordinates with incremental integers\n",
      "INFO:regional_mom6.regridding:Adding perpendicular dimension to temp_segment_003\n",
      "INFO:regional_mom6.regridding:Renaming vertical coordinate to nz_... in u_segment_003\n",
      "INFO:regional_mom6.regridding:Replacing old depth coordinates with incremental integers\n",
      "INFO:regional_mom6.regridding:Adding perpendicular dimension to u_segment_003\n",
      "INFO:regional_mom6.regridding:Renaming vertical coordinate to nz_... in v_segment_003\n",
      "INFO:regional_mom6.regridding:Replacing old depth coordinates with incremental integers\n",
      "INFO:regional_mom6.regridding:Adding perpendicular dimension to v_segment_003\n",
      "INFO:regional_mom6.regridding:Adding perpendicular dimension to eta_segment_003\n",
      "WARNING:regional_mom6.regridding:All NaNs filled b/c bathymetry wasn't provided to the function. Add bathymetry_path to the segment class to avoid this\n",
      "INFO:regional_mom6.regridding:Generating encoding dictionary\n"
     ]
    },
    {
     "name": "stdout",
     "output_type": "stream",
     "text": [
      "Done.\n",
      "Processing east boundary velocity & tracers...Done.\n"
     ]
    },
    {
     "name": "stderr",
     "output_type": "stream",
     "text": [
      "INFO:regional_mom6.regridding:Creating coordinates of the boundary q/u/v points\n",
      "INFO:regional_mom6.regridding:Creating Regridder\n"
     ]
    },
    {
     "name": "stdout",
     "output_type": "stream",
     "text": [
      "Processing south boundary..."
     ]
    },
    {
     "name": "stderr",
     "output_type": "stream",
     "text": [
      "INFO:regional_mom6.regridding:Filling in missing data horizontally, then vertically\n",
      "INFO:regional_mom6.regridding:Filling in missing data horizontally, then vertically\n",
      "INFO:regional_mom6.regridding:Adding time dimension\n",
      "INFO:regional_mom6.regridding:Creating coordinates of the boundary q/u/v points\n",
      "INFO:regional_mom6.regridding:Adding perpendicular dimension to zamp_segment_001\n",
      "INFO:regional_mom6.regridding:Adding perpendicular dimension to zphase_segment_001\n",
      "WARNING:regional_mom6.regridding:All NaNs filled b/c bathymetry wasn't provided to the function. Add bathymetry_path to the segment class to avoid this\n",
      "INFO:regional_mom6.regridding:Generating encoding dictionary\n",
      "INFO:regional_mom6.regridding:Creating Regridder\n",
      "INFO:regional_mom6.regridding:Creating Regridder\n",
      "INFO:regional_mom6.regridding:Filling in missing data horizontally, then vertically\n",
      "INFO:regional_mom6.regridding:Filling in missing data horizontally, then vertically\n",
      "INFO:regional_mom6.regridding:Filling in missing data horizontally, then vertically\n",
      "INFO:regional_mom6.regridding:Filling in missing data horizontally, then vertically\n",
      "INFO:regional_mom6.rotation:Getting rotation angle\n",
      "INFO:regional_mom6.rotation:Calculating grid rotation angle\n",
      "INFO:regional_mom6.regridding:Creating coordinates of the boundary q/u/v points\n",
      "INFO:regional_mom6.regridding:Adding time dimension\n",
      "INFO:regional_mom6.regridding:Filling in missing data horizontally, then vertically\n",
      "INFO:regional_mom6.regridding:Creating coordinates of the boundary q/u/v points\n",
      "INFO:regional_mom6.regridding:Adding perpendicular dimension to uamp_segment_001\n",
      "INFO:regional_mom6.regridding:Adding perpendicular dimension to vamp_segment_001\n",
      "INFO:regional_mom6.regridding:Adding perpendicular dimension to uphase_segment_001\n",
      "INFO:regional_mom6.regridding:Adding perpendicular dimension to vphase_segment_001\n",
      "WARNING:regional_mom6.regridding:All NaNs filled b/c bathymetry wasn't provided to the function. Add bathymetry_path to the segment class to avoid this\n",
      "INFO:regional_mom6.regridding:Generating encoding dictionary\n",
      "INFO:regional_mom6.regridding:Creating coordinates of the boundary q/u/v points\n",
      "INFO:regional_mom6.regridding:Creating Regridder\n"
     ]
    },
    {
     "name": "stdout",
     "output_type": "stream",
     "text": [
      "Done\n",
      "Processing north boundary..."
     ]
    },
    {
     "name": "stderr",
     "output_type": "stream",
     "text": [
      "INFO:regional_mom6.regridding:Filling in missing data horizontally, then vertically\n",
      "INFO:regional_mom6.regridding:Filling in missing data horizontally, then vertically\n",
      "INFO:regional_mom6.regridding:Adding time dimension\n",
      "INFO:regional_mom6.regridding:Creating coordinates of the boundary q/u/v points\n",
      "INFO:regional_mom6.regridding:Adding perpendicular dimension to zamp_segment_002\n",
      "INFO:regional_mom6.regridding:Adding perpendicular dimension to zphase_segment_002\n",
      "WARNING:regional_mom6.regridding:All NaNs filled b/c bathymetry wasn't provided to the function. Add bathymetry_path to the segment class to avoid this\n",
      "INFO:regional_mom6.regridding:Generating encoding dictionary\n",
      "INFO:regional_mom6.regridding:Creating Regridder\n",
      "INFO:regional_mom6.regridding:Creating Regridder\n",
      "INFO:regional_mom6.regridding:Filling in missing data horizontally, then vertically\n",
      "INFO:regional_mom6.regridding:Filling in missing data horizontally, then vertically\n",
      "INFO:regional_mom6.regridding:Filling in missing data horizontally, then vertically\n",
      "INFO:regional_mom6.regridding:Filling in missing data horizontally, then vertically\n",
      "INFO:regional_mom6.rotation:Getting rotation angle\n",
      "INFO:regional_mom6.rotation:Calculating grid rotation angle\n",
      "INFO:regional_mom6.regridding:Creating coordinates of the boundary q/u/v points\n",
      "INFO:regional_mom6.regridding:Adding time dimension\n",
      "INFO:regional_mom6.regridding:Filling in missing data horizontally, then vertically\n",
      "INFO:regional_mom6.regridding:Creating coordinates of the boundary q/u/v points\n",
      "INFO:regional_mom6.regridding:Adding perpendicular dimension to uamp_segment_002\n",
      "INFO:regional_mom6.regridding:Adding perpendicular dimension to vamp_segment_002\n",
      "INFO:regional_mom6.regridding:Adding perpendicular dimension to uphase_segment_002\n",
      "INFO:regional_mom6.regridding:Adding perpendicular dimension to vphase_segment_002\n",
      "WARNING:regional_mom6.regridding:All NaNs filled b/c bathymetry wasn't provided to the function. Add bathymetry_path to the segment class to avoid this\n",
      "INFO:regional_mom6.regridding:Generating encoding dictionary\n",
      "INFO:regional_mom6.regridding:Creating coordinates of the boundary q/u/v points\n",
      "INFO:regional_mom6.regridding:Creating Regridder\n"
     ]
    },
    {
     "name": "stdout",
     "output_type": "stream",
     "text": [
      "Done\n",
      "Processing east boundary..."
     ]
    },
    {
     "name": "stderr",
     "output_type": "stream",
     "text": [
      "INFO:regional_mom6.regridding:Filling in missing data horizontally, then vertically\n",
      "INFO:regional_mom6.regridding:Filling in missing data horizontally, then vertically\n",
      "INFO:regional_mom6.regridding:Adding time dimension\n",
      "INFO:regional_mom6.regridding:Creating coordinates of the boundary q/u/v points\n",
      "INFO:regional_mom6.regridding:Adding perpendicular dimension to zamp_segment_003\n",
      "INFO:regional_mom6.regridding:Adding perpendicular dimension to zphase_segment_003\n",
      "WARNING:regional_mom6.regridding:All NaNs filled b/c bathymetry wasn't provided to the function. Add bathymetry_path to the segment class to avoid this\n",
      "INFO:regional_mom6.regridding:Generating encoding dictionary\n",
      "INFO:regional_mom6.regridding:Creating Regridder\n",
      "INFO:regional_mom6.regridding:Creating Regridder\n",
      "INFO:regional_mom6.regridding:Filling in missing data horizontally, then vertically\n",
      "INFO:regional_mom6.regridding:Filling in missing data horizontally, then vertically\n",
      "INFO:regional_mom6.regridding:Filling in missing data horizontally, then vertically\n",
      "INFO:regional_mom6.regridding:Filling in missing data horizontally, then vertically\n",
      "INFO:regional_mom6.rotation:Getting rotation angle\n",
      "INFO:regional_mom6.rotation:Calculating grid rotation angle\n",
      "INFO:regional_mom6.regridding:Creating coordinates of the boundary q/u/v points\n",
      "INFO:regional_mom6.regridding:Adding time dimension\n",
      "INFO:regional_mom6.regridding:Filling in missing data horizontally, then vertically\n",
      "INFO:regional_mom6.regridding:Creating coordinates of the boundary q/u/v points\n",
      "INFO:regional_mom6.regridding:Adding perpendicular dimension to uamp_segment_003\n",
      "INFO:regional_mom6.regridding:Adding perpendicular dimension to vamp_segment_003\n",
      "INFO:regional_mom6.regridding:Adding perpendicular dimension to uphase_segment_003\n",
      "INFO:regional_mom6.regridding:Adding perpendicular dimension to vphase_segment_003\n",
      "WARNING:regional_mom6.regridding:All NaNs filled b/c bathymetry wasn't provided to the function. Add bathymetry_path to the segment class to avoid this\n",
      "INFO:regional_mom6.regridding:Generating encoding dictionary\n"
     ]
    },
    {
     "name": "stdout",
     "output_type": "stream",
     "text": [
      "Done\n",
      "\u001b[01;96mAdding parameter changes to user_nl_mom_0001:\u001b[0m\n",
      "\n",
      "  ! Initial conditions\n",
      "  INIT_LAYERS_FROM_Z_FILE = True\n",
      "  TEMP_SALT_Z_INIT_FILE = init_tracers.nc\n",
      "  Z_INIT_FILE_PTEMP_VAR = temp\n",
      "  Z_INIT_ALE_REMAPPING = True\n",
      "  TEMP_SALT_INIT_VERTICAL_REMAP_ONLY = True\n",
      "  DEPRESS_INITIAL_SURFACE = True\n",
      "  SURFACE_HEIGHT_IC_FILE = init_eta.nc\n",
      "  SURFACE_HEIGHT_IC_VAR = eta_t\n",
      "  VELOCITY_CONFIG = file\n",
      "  VELOCITY_FILE = init_vel.nc\n",
      "\n",
      "\u001b[01;96mAdding parameter changes to user_nl_mom_0002:\u001b[0m\n",
      "\n",
      "  ! Initial conditions\n",
      "  INIT_LAYERS_FROM_Z_FILE = True\n",
      "  TEMP_SALT_Z_INIT_FILE = init_tracers.nc\n",
      "  Z_INIT_FILE_PTEMP_VAR = temp\n",
      "  Z_INIT_ALE_REMAPPING = True\n",
      "  TEMP_SALT_INIT_VERTICAL_REMAP_ONLY = True\n",
      "  DEPRESS_INITIAL_SURFACE = True\n",
      "  SURFACE_HEIGHT_IC_FILE = init_eta.nc\n",
      "  SURFACE_HEIGHT_IC_VAR = eta_t\n",
      "  VELOCITY_CONFIG = file\n",
      "  VELOCITY_FILE = init_vel.nc\n",
      "\n",
      "  ! Tides\n",
      "  TIDES = True\n",
      "  TIDE_M2 = True\n",
      "  CD_TIDES = 0.0018\n",
      "  TIDE_USE_EQ_PHASE = True\n",
      "  TIDE_REF_DATE = 2020, 1, 1\n",
      "  OBC_TIDE_ADD_EQ_PHASE = True\n",
      "  OBC_TIDE_N_CONSTITUENTS = 1\n",
      "  OBC_TIDE_CONSTITUENTS = \"M2\"\n",
      "  OBC_TIDE_REF_DATE = 2020, 1, 1\n",
      "\n",
      "  ! Tides\n",
      "  TIDES = True\n",
      "  TIDE_M2 = True\n",
      "  CD_TIDES = 0.0018\n",
      "  TIDE_USE_EQ_PHASE = True\n",
      "  TIDE_REF_DATE = 2020, 1, 1\n",
      "  OBC_TIDE_ADD_EQ_PHASE = True\n",
      "  OBC_TIDE_N_CONSTITUENTS = 1\n",
      "  OBC_TIDE_CONSTITUENTS = \"M2\"\n",
      "  OBC_TIDE_REF_DATE = 2020, 1, 1\n",
      "\n",
      "  ! Open boundary conditions\n",
      "  OBC_NUMBER_OF_SEGMENTS = 3\n",
      "  OBC_FREESLIP_VORTICITY = False\n",
      "  OBC_FREESLIP_STRAIN = False\n",
      "  OBC_COMPUTED_VORTICITY = True\n",
      "  OBC_COMPUTED_STRAIN = True\n",
      "  OBC_ZERO_BIHARMONIC = True\n",
      "  OBC_TRACER_RESERVOIR_LENGTH_SCALE_OUT = 3.0E+04\n",
      "  OBC_TRACER_RESERVOIR_LENGTH_SCALE_IN = 3000.0\n",
      "  BRUSHCUTTER_MODE = True\n",
      "  OBC_SEGMENT_001 = \"J=0,I=0:N,FLATHER,ORLANSKI,NUDGED,ORLANSKI_TAN,NUDGED_TAN\"\n",
      "  OBC_SEGMENT_001_VELOCITY_NUDGING_TIMESCALES = 0.3, 360.0\n",
      "  OBC_SEGMENT_001_DATA = \"U=file:forcing_obc_segment_001.nc(u),V=file:forcing_obc_segment_001.nc(v),SSH=file:forcing_obc_segment_001.nc(eta),TEMP=file:forcing_obc_segment_001.nc(temp),SALT=file:forcing_obc_segment_001.nc(salt),Uamp=file:tu_segment_001.nc(uamp),Uphase=file:tu_segment_001.nc(uphase),Vamp=file:tu_segment_001.nc(vamp),Vphase=file:tu_segment_001.nc(vphase),SSHamp=file:tz_segment_001.nc(zamp),SSHphase=file:tz_segment_001.nc(zphase)\"\n",
      "  OBC_SEGMENT_002 = \"J=N,I=N:0,FLATHER,ORLANSKI,NUDGED,ORLANSKI_TAN,NUDGED_TAN\"\n",
      "  OBC_SEGMENT_002_VELOCITY_NUDGING_TIMESCALES = 0.3, 360.0\n",
      "  OBC_SEGMENT_002_DATA = \"U=file:forcing_obc_segment_002.nc(u),V=file:forcing_obc_segment_002.nc(v),SSH=file:forcing_obc_segment_002.nc(eta),TEMP=file:forcing_obc_segment_002.nc(temp),SALT=file:forcing_obc_segment_002.nc(salt),Uamp=file:tu_segment_002.nc(uamp),Uphase=file:tu_segment_002.nc(uphase),Vamp=file:tu_segment_002.nc(vamp),Vphase=file:tu_segment_002.nc(vphase),SSHamp=file:tz_segment_002.nc(zamp),SSHphase=file:tz_segment_002.nc(zphase)\"\n",
      "  OBC_SEGMENT_003 = \"I=N,J=0:N,FLATHER,ORLANSKI,NUDGED,ORLANSKI_TAN,NUDGED_TAN\"\n",
      "  OBC_SEGMENT_003_VELOCITY_NUDGING_TIMESCALES = 0.3, 360.0\n",
      "  OBC_SEGMENT_003_DATA = \"U=file:forcing_obc_segment_003.nc(u),V=file:forcing_obc_segment_003.nc(v),SSH=file:forcing_obc_segment_003.nc(eta),TEMP=file:forcing_obc_segment_003.nc(temp),SALT=file:forcing_obc_segment_003.nc(salt),Uamp=file:tu_segment_003.nc(uamp),Uphase=file:tu_segment_003.nc(uphase),Vamp=file:tu_segment_003.nc(vamp),Vphase=file:tu_segment_003.nc(vphase),SSHamp=file:tz_segment_003.nc(zamp),SSHphase=file:tz_segment_003.nc(zphase)\"\n",
      "\n",
      "  ! Open boundary conditions\n",
      "  OBC_NUMBER_OF_SEGMENTS = 3\n",
      "  OBC_FREESLIP_VORTICITY = False\n",
      "  OBC_FREESLIP_STRAIN = False\n",
      "  OBC_COMPUTED_VORTICITY = True\n",
      "  OBC_COMPUTED_STRAIN = True\n",
      "  OBC_ZERO_BIHARMONIC = True\n",
      "  OBC_TRACER_RESERVOIR_LENGTH_SCALE_OUT = 3.0E+04\n",
      "  OBC_TRACER_RESERVOIR_LENGTH_SCALE_IN = 3000.0\n",
      "  BRUSHCUTTER_MODE = True\n",
      "  OBC_SEGMENT_001 = \"J=0,I=0:N,FLATHER,ORLANSKI,NUDGED,ORLANSKI_TAN,NUDGED_TAN\"\n",
      "  OBC_SEGMENT_001_VELOCITY_NUDGING_TIMESCALES = 0.3, 360.0\n",
      "  OBC_SEGMENT_001_DATA = \"U=file:forcing_obc_segment_001.nc(u),V=file:forcing_obc_segment_001.nc(v),SSH=file:forcing_obc_segment_001.nc(eta),TEMP=file:forcing_obc_segment_001.nc(temp),SALT=file:forcing_obc_segment_001.nc(salt),Uamp=file:tu_segment_001.nc(uamp),Uphase=file:tu_segment_001.nc(uphase),Vamp=file:tu_segment_001.nc(vamp),Vphase=file:tu_segment_001.nc(vphase),SSHamp=file:tz_segment_001.nc(zamp),SSHphase=file:tz_segment_001.nc(zphase)\"\n",
      "  OBC_SEGMENT_002 = \"J=N,I=N:0,FLATHER,ORLANSKI,NUDGED,ORLANSKI_TAN,NUDGED_TAN\"\n",
      "  OBC_SEGMENT_002_VELOCITY_NUDGING_TIMESCALES = 0.3, 360.0\n",
      "  OBC_SEGMENT_002_DATA = \"U=file:forcing_obc_segment_002.nc(u),V=file:forcing_obc_segment_002.nc(v),SSH=file:forcing_obc_segment_002.nc(eta),TEMP=file:forcing_obc_segment_002.nc(temp),SALT=file:forcing_obc_segment_002.nc(salt),Uamp=file:tu_segment_002.nc(uamp),Uphase=file:tu_segment_002.nc(uphase),Vamp=file:tu_segment_002.nc(vamp),Vphase=file:tu_segment_002.nc(vphase),SSHamp=file:tz_segment_002.nc(zamp),SSHphase=file:tz_segment_002.nc(zphase)\"\n",
      "  OBC_SEGMENT_003 = \"I=N,J=0:N,FLATHER,ORLANSKI,NUDGED,ORLANSKI_TAN,NUDGED_TAN\"\n",
      "  OBC_SEGMENT_003_VELOCITY_NUDGING_TIMESCALES = 0.3, 360.0\n",
      "  OBC_SEGMENT_003_DATA = \"U=file:forcing_obc_segment_003.nc(u),V=file:forcing_obc_segment_003.nc(v),SSH=file:forcing_obc_segment_003.nc(eta),TEMP=file:forcing_obc_segment_003.nc(temp),SALT=file:forcing_obc_segment_003.nc(salt),Uamp=file:tu_segment_003.nc(uamp),Uphase=file:tu_segment_003.nc(uphase),Vamp=file:tu_segment_003.nc(vamp),Vphase=file:tu_segment_003.nc(vphase),SSHamp=file:tz_segment_003.nc(zamp),SSHphase=file:tz_segment_003.nc(zphase)\"\n",
      "\n",
      "./xmlchange RUN_STARTDATE=2020-01-01 --non-local\n",
      "\n",
      "./xmlchange MOM6_MEMORY_MODE=dynamic_symmetric --non-local\n",
      "\n",
      "Case is ready to be built: /glade/u/home/akwong/croc_cases/little-nwa-three-boundary-t232\n"
     ]
    }
   ],
   "source": [
    "case.process_forcings()"
   ]
  },
  {
   "cell_type": "code",
   "execution_count": 24,
   "metadata": {},
   "outputs": [
    {
     "name": "stdout",
     "output_type": "stream",
     "text": [
      "./xmlchange NTASKS=4\n",
      "\n"
     ]
    },
    {
     "ename": "RuntimeError",
     "evalue": "Error running ./xmlchange NTASKS=4.",
     "output_type": "error",
     "traceback": [
      "\u001b[0;31m---------------------------------------------------------------------------\u001b[0m",
      "\u001b[0;31mRuntimeError\u001b[0m                              Traceback (most recent call last)",
      "Input \u001b[0;32mIn [24]\u001b[0m, in \u001b[0;36m<cell line: 0>\u001b[0;34m()\u001b[0m\n\u001b[1;32m      1\u001b[0m \u001b[38;5;66;03m# Because this case is so small, we change NTASKS to be 4 instead of the default of 128. \u001b[39;00m\n\u001b[1;32m      2\u001b[0m \u001b[38;5;28;01mfrom\u001b[39;00m\u001b[38;5;250m \u001b[39m\u001b[38;5;21;01mvisualCaseGen\u001b[39;00m\u001b[38;5;21;01m.\u001b[39;00m\u001b[38;5;21;01mcustom_widget_types\u001b[39;00m\u001b[38;5;21;01m.\u001b[39;00m\u001b[38;5;21;01mcase_tools\u001b[39;00m\u001b[38;5;250m \u001b[39m\u001b[38;5;28;01mimport\u001b[39;00m xmlchange\n\u001b[0;32m----> 3\u001b[0m \u001b[43mxmlchange\u001b[49m\u001b[43m(\u001b[49m\u001b[38;5;124;43m\"\u001b[39;49m\u001b[38;5;124;43mNTASKS\u001b[39;49m\u001b[38;5;124;43m\"\u001b[39;49m\u001b[43m,\u001b[49m\u001b[43m \u001b[49m\u001b[38;5;124;43m\"\u001b[39;49m\u001b[38;5;124;43m4\u001b[39;49m\u001b[38;5;124;43m\"\u001b[39;49m\u001b[43m)\u001b[49m\n",
      "File \u001b[0;32m~/CrocoDash/CrocoDash/visualCaseGen/visualCaseGen/custom_widget_types/case_tools.py:126\u001b[0m, in \u001b[0;36mxmlchange\u001b[0;34m(var, val, do_exec, is_non_local, out)\u001b[0m\n\u001b[1;32m    124\u001b[0m runout \u001b[38;5;241m=\u001b[39m subprocess\u001b[38;5;241m.\u001b[39mrun(cmd, shell\u001b[38;5;241m=\u001b[39m\u001b[38;5;28;01mTrue\u001b[39;00m, capture_output\u001b[38;5;241m=\u001b[39m\u001b[38;5;28;01mTrue\u001b[39;00m, cwd\u001b[38;5;241m=\u001b[39mcaseroot)\n\u001b[1;32m    125\u001b[0m \u001b[38;5;28;01mif\u001b[39;00m runout\u001b[38;5;241m.\u001b[39mreturncode \u001b[38;5;241m!=\u001b[39m \u001b[38;5;241m0\u001b[39m:\n\u001b[0;32m--> 126\u001b[0m     \u001b[38;5;28;01mraise\u001b[39;00m \u001b[38;5;167;01mRuntimeError\u001b[39;00m(\u001b[38;5;124mf\u001b[39m\u001b[38;5;124m\"\u001b[39m\u001b[38;5;124mError running \u001b[39m\u001b[38;5;132;01m{\u001b[39;00mcmd\u001b[38;5;132;01m}\u001b[39;00m\u001b[38;5;124m.\u001b[39m\u001b[38;5;124m\"\u001b[39m)\n",
      "\u001b[0;31mRuntimeError\u001b[0m: Error running ./xmlchange NTASKS=4."
     ]
    }
   ],
   "source": [
    "# Because this case is so small, we change NTASKS to be 4 instead of the default of 128. \n",
    "from visualCaseGen.custom_widget_types.case_tools import xmlchange\n",
    "xmlchange(\"NTASKS\", \"4\")"
   ]
  },
  {
   "cell_type": "markdown",
   "metadata": {},
   "source": [
    "# Section 4: Build and run the case\n",
    "\n",
    "After completing the previous steps, you are ready to build and run your CESM case. Begin by navigating to the case root directory specified during the case creation. Before proceeding, review the `user_nl_mom` file located in the case directory. This file contains MOM6 parameter settings that were automatically generated by CrocoDash. Carefully examine these parameters and make any necessary adjustments to fine-tune the model for your specific requirements. While CrocoDash aims to provide a solid starting point, further tuning and adjustments are typically necessary to improve the model for your use case.\n",
    "\n",
    "Once you have reviewed and modified the parameters as needed, you can prepare, build, and execute the case using the following commands: \n",
    "```\n",
    "./case.setup\n",
    "./case.build\n",
    "./case.submit\n",
    "```"
   ]
  }
 ],
 "metadata": {
  "kernelspec": {
   "display_name": "Python [conda env:CrocoDash]",
   "language": "python",
   "name": "conda-env-CrocoDash-py"
  },
  "language_info": {
   "codemirror_mode": {
    "name": "ipython",
    "version": 3
   },
   "file_extension": ".py",
   "mimetype": "text/x-python",
   "name": "python",
   "nbconvert_exporter": "python",
   "pygments_lexer": "ipython3",
   "version": "3.12.10"
  }
 },
 "nbformat": 4,
 "nbformat_minor": 4
}
