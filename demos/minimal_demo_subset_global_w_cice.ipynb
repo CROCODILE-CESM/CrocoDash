{
 "cells": [
  {
   "cell_type": "markdown",
   "metadata": {},
   "source": [
    "# Set up a global gridded subset regional CESM-MOM6 run\n",
    "\n",
    "A typical workflow of utilizing CrocoDash consists of four main steps:\n",
    "\n",
    "1. Generate a regional MOM6 domain.\n",
    "2. Create the CESM case.\n",
    "3. Prepare ocean forcing data.\n",
    "4. Build and run the case."
   ]
  },
  {
   "cell_type": "markdown",
   "metadata": {},
   "source": [
    "# SECTION 1: Generate a regional MOM6 domain\n",
    "\n",
    "We begin by defining a regional MOM6 domain using CrocoDash. To do so, we first carve out a subdomain from a 1/12 degree global grid. We then generate the topography by remapping an existing bathymetric dataset to our horizontal grid. Finally, we define a vertical grid."
   ]
  },
  {
   "cell_type": "markdown",
   "metadata": {},
   "source": [
    "## Step 1.1: Horizontal Grid\n",
    "\n",
    "Extract a subgrid from a global grid using the `subgrid_from_supergrid` method:"
   ]
  },
  {
   "cell_type": "code",
   "execution_count": 1,
   "metadata": {},
   "outputs": [],
   "source": [
    "%load_ext autoreload\n",
    "%autoreload 2"
   ]
  },
  {
   "cell_type": "code",
   "execution_count": 2,
   "metadata": {},
   "outputs": [],
   "source": [
    "from CrocoDash.grid import Grid"
   ]
  },
  {
   "cell_type": "code",
   "execution_count": 3,
   "metadata": {},
   "outputs": [],
   "source": [
    "grid = Grid.from_supergrid(\"/Users/altuntas/projects/cesm-inputdata/ocn/mom/tx2_3v2/ocean_hgrid_221123.nc\")\n",
    "grid = grid[385:,:]\n",
    "grid.name = 't232_No45'"
   ]
  },
  {
   "cell_type": "markdown",
   "metadata": {},
   "source": [
    "## Step 1.2: Topography"
   ]
  },
  {
   "cell_type": "code",
   "execution_count": 4,
   "metadata": {},
   "outputs": [],
   "source": [
    "from CrocoDash.topo import Topo\n",
    "\n",
    "topo = Topo.from_topo_file(\n",
    "    grid,\n",
    "    \"/Users/altuntas/projects/cesm-inputdata/ocn/mom/tx2_3v2/ocean_topo_tx2_3v2_240501.nc\",\n",
    "    min_depth = 9.5,\n",
    ")"
   ]
  },
  {
   "cell_type": "code",
   "execution_count": 5,
   "metadata": {},
   "outputs": [
    {
     "data": {
      "text/plain": [
       "<matplotlib.collections.QuadMesh at 0x14443a4b0>"
      ]
     },
     "execution_count": 5,
     "metadata": {},
     "output_type": "execute_result"
    },
    {
     "data": {
      "image/png": "[encoded data removed]",
      "text/plain": [
       "<Figure size 1200x300 with 2 Axes>"
      ]
     },
     "metadata": {},
     "output_type": "display_data"
    }
   ],
   "source": [
    "topo.tmask.plot(aspect=4, size=3)"
   ]
  },
  {
   "cell_type": "markdown",
   "metadata": {},
   "source": [
    "**TODO:** Implement a subset_global_topo-like method in mom6 and use it for this example instead of interpolation."
   ]
  },
  {
   "cell_type": "code",
   "execution_count": 6,
   "metadata": {},
   "outputs": [],
   "source": [
    "\n",
    "from ProConPy.config_var import ConfigVar, cvars\n",
    "from ProConPy.stage import Stage\n",
    "from ProConPy.csp_solver import csp\n",
    "from visualCaseGen.cime_interface import CIME_interface\n",
    "from visualCaseGen.initialize_configvars import initialize_configvars\n",
    "from visualCaseGen.initialize_widgets import initialize_widgets\n",
    "from visualCaseGen.initialize_stages import initialize_stages\n",
    "from visualCaseGen.specs.options import set_options\n",
    "from visualCaseGen.specs.relational_constraints import get_relational_constraints\n",
    "from visualCaseGen.custom_widget_types.mom6_bathy_launcher import MOM6BathyLauncher\n",
    "from visualCaseGen.custom_widget_types.case_creator_widget import CaseCreatorWidget\n",
    "#from tests.utils import safe_create_case"
   ]
  },
  {
   "cell_type": "code",
   "execution_count": null,
   "metadata": {},
   "outputs": [],
   "source": []
  },
  {
   "cell_type": "markdown",
   "metadata": {},
   "source": [
    "## Step 1.3: Vertical Grid"
   ]
  },
  {
   "cell_type": "code",
   "execution_count": 7,
   "metadata": {},
   "outputs": [],
   "source": [
    "from CrocoDash.vgrid import VGrid\n",
    "\n",
    "vgrid  = VGrid.hyperbolic(\n",
    "    nk = 75,\n",
    "    depth = topo.max_depth,\n",
    "    ratio=20.0\n",
    ")"
   ]
  },
  {
   "cell_type": "markdown",
   "metadata": {},
   "source": [
    "# SECTION 2: Create the CESM case\n",
    "\n",
    "After generating the MOM6 domain, the next step is to create a CESM case using CrocoDash. This process is straightforward and involves instantiating the CrocoDash Case object. The Case object requires the following inputs:\n",
    "\n",
    " - CESM Source Directory: A local path to a compatible CESM source copy.\n",
    " - Case Name: A unique name for the CESM case.\n",
    " - Input Directory: The directory where all necessary input files will be written.\n",
    " - MOM6 Domain Objects: The horizontal grid, topography, and vertical grid created in the previous section.\n",
    " - Project ID: (Optional) A project ID, if required by the machine."
   ]
  },
  {
   "cell_type": "code",
   "execution_count": 8,
   "metadata": {},
   "outputs": [],
   "source": [
    "from pathlib import Path"
   ]
  },
  {
   "cell_type": "code",
   "execution_count": 9,
   "metadata": {},
   "outputs": [],
   "source": [
    "# CESM case (experiment) name\n",
    "casename = \"g.e30.G_JRA.TL319_No45\"\n",
    "casename = \"abcefg\"\n",
    "\n",
    "# CESM source root (Update this path accordingly!!!)\n",
    "cesmroot = Path.home() / \"work/cesm3_0_beta04.sbx\"\n",
    "\n",
    "# Place where all your input files go \n",
    "inputdir = Path.home() / \"croc_input\" / casename\n",
    "    \n",
    "# CESM case directory\n",
    "caseroot = Path.home() / \"croc_cases\" / casename"
   ]
  },
  {
   "cell_type": "markdown",
   "metadata": {},
   "source": [
    "## Step 2.2: Create the Case\n",
    "\n",
    "To create the CESM case, instantiate the `Case` object as shown below. This will automatically set up the CESM case based on the provided inputs: The `cesmroot` argument specifies the path to your local CESM source directory.\n",
    "The `caseroot` argument defines the directory where the case will be created. CrocoDash will handle all necessary namelist modifications and XML changes to align with the MOM6 domain objects generated earlier."
   ]
  },
  {
   "cell_type": "code",
   "execution_count": 10,
   "metadata": {},
   "outputs": [],
   "source": [
    "import os\n",
    "os.environ['MACHINE'] = 'homebrew'"
   ]
  },
  {
   "cell_type": "code",
   "execution_count": 14,
   "metadata": {},
   "outputs": [
    {
     "name": "stderr",
     "output_type": "stream",
     "text": [
      "INFO:  csp_solver:CspSolver initialized.\n"
     ]
    },
    {
     "name": "stdout",
     "output_type": "stream",
     "text": [
      "Setting ATM option to JRA-1p5-2023 for custom component set 2000_DATM%JRA-1p5-2023_SLND_CICE_MOM6_SROF_SGLC_SWAV_SESP\n",
      "\u001b[01;96mCreating case...\u001b[0m\n",
      "\n",
      "• Updating ccs_config/modelgrid_aliases_nuopc.xml file to include the new resolution \"abcefg\" consisting of the following component grids.\n",
      " atm grid: \"TL319\", lnd grid: \"TL319\", ocn grid: \"t232_No45\".\n",
      "\n",
      "• Updating ccs_config/component_grids_nuopc.xml file to include newly generated ocean grid \"t232_No45\" with the following properties:\n",
      " nx: 540, ny: 95. ocean mesh: /Users/altuntas/croc_input/abcefg/ocnice/ESMF_mesh_t232_No45_d5e3a9.nc.\u001b[0m\n",
      "\n",
      "\u001b[01;96mRunning the create_newcase tool with the following command:\u001b[0m\n",
      "\n",
      "/Users/altuntas/work/cesm3_0_beta04.sbx/cime/scripts/create_newcase --compset 2000_DATM%JRA-1p5-2023_SLND_CICE_MOM6_SROF_SGLC_SWAV --res abcefg --case /Users/altuntas/croc_cases/abcefg --machine homebrew --run-unsupported --project NCGD0011 \n",
      "\n",
      "\u001b[1;31mError creating case.\u001b[0m\n",
      "\n",
      "b'Traceback (most recent call last):\\n  File \"/Users/altuntas/work/cesm3_0_beta04.sbx/cime/scripts/create_newcase\", line 18, in <module>\\n    _main_func()\\n  File \"/Users/altuntas/work/cesm3_0_beta04.sbx/cime/CIME/scripts/create_newcase.py\", line 440, in _main_func\\n    case.create(\\n  File \"/Users/altuntas/work/cesm3_0_beta04.sbx/cime/CIME/case/case.py\", line 2494, in create\\n    self.configure(\\n  File \"/Users/altuntas/work/cesm3_0_beta04.sbx/cime/CIME/case/case.py\", line 1534, in configure\\n    response = input(\\n               ^^^^^^\\nEOFError: EOF when reading a line\\n'\n",
      "\n",
      "\u001b[1;31mError creating case.\u001b[0m\n"
     ]
    },
    {
     "ename": "CIMEError",
     "evalue": "ERROR: Makes no sense to have empty read-only file: /Users/altuntas/croc_cases/abcefg/env_case.xml",
     "output_type": "error",
     "traceback": [
      "An exception has occurred, use %tb to see the full traceback.\n",
      "\u001b[0;31mCIMEError\u001b[0m\u001b[0;31m:\u001b[0m ERROR: Makes no sense to have empty read-only file: /Users/altuntas/croc_cases/abcefg/env_case.xml\n"
     ]
    }
   ],
   "source": [
    "from CrocoDash.case import Case\n",
    "\n",
    "case = Case(\n",
    "    cesmroot = cesmroot,\n",
    "    caseroot = caseroot,\n",
    "    inputdir = inputdir,\n",
    "    ocn_grid = grid,\n",
    "    ocn_vgrid = vgrid,\n",
    "    compset = '2000_DATM%JRA-1p5-2023_SLND_CICE_MOM6_SROF_SGLC_SWAV_SESP',\n",
    "    ocn_topo = topo,\n",
    "    project = 'NCGD0011',\n",
    "    override = False,\n",
    ")"
   ]
  },
  {
   "cell_type": "markdown",
   "metadata": {},
   "source": [
    "# Section 3: Prepare ocean forcing data\n",
    "\n",
    "We need to cut out our ocean forcing. The package expects an initial condition and one time-dependent segment per non-land boundary. Naming convention is `\"east_unprocessed\"` for segments and `\"ic_unprocessed\"` for the initial condition.\n",
    "\n",
    "In this notebook, we are forcing with the Copernicus Marine \"Glorys\" reanalysis dataset. There's a function in the `CrocoDash` package, called `configure_forcings`, that generates a bash script to download the correct boundary forcing files for your experiment. First, you will need to create an account with Copernicus, and then call `copernicusmarine login` to set up your login details on your machine. Then you can run the `get_glorys_data.sh` bash script.\n",
    "\n",
    "## Step 3.1 Configure Initial Conditions and Forcings\n"
   ]
  },
  {
   "cell_type": "code",
   "execution_count": null,
   "metadata": {},
   "outputs": [],
   "source": [
    "case.configure_forcings(\n",
    "    date_range = [\"2020-01-01 00:00:00\", \"2020-02-01 00:00:00\"],\n",
    ")"
   ]
  },
  {
   "cell_type": "markdown",
   "metadata": {},
   "source": [
    "## Step 3.2 Run `get_glorys_data.sh`\n",
    "\n",
    "In a terminal session, locate the `get_glorys_data.sh` script and execute it to download the initial conditions and boundary conditions. Follow the instructions printed by the `configure_forcings` method above.\n"
   ]
  },
  {
   "cell_type": "markdown",
   "metadata": {},
   "source": [
    "**TODO:** user copernicusmarine python API within CrocoDash, instead of directing users to run it via CLI. Also, on a derecho login node, both CLI and API fails to run due to the computational demand. We also need to address that."
   ]
  },
  {
   "cell_type": "markdown",
   "metadata": {},
   "source": [
    "##  Step 3.3: Process forcing data\n",
    "\n",
    "In this final step, we call the `process_forcings` method of CrocoDash to cut out and interpolate the initial condition as well as all boundaries. CrocoDash also updates MOM6 runtime parameters and CESM xml variables accordingly."
   ]
  },
  {
   "cell_type": "code",
   "execution_count": 12,
   "metadata": {},
   "outputs": [
    {
     "name": "stdout",
     "output_type": "stream",
     "text": [
      "INITIAL CONDITIONS\n",
      "Regridding Velocities... Done.\n",
      "Regridding Tracers... Done.\n",
      "Regridding Free surface... Done.\n",
      "Saving outputs... done setting up initial condition.\n",
      "[########################################] | 100% Completed | 101.87 ms\n",
      "Done.\n",
      "[########################################] | 100% Completed | 101.86 ms\n",
      "Done.\n",
      "[########################################] | 100% Completed | 101.57 ms\n",
      "Done.\n",
      "[########################################] | 100% Completed | 101.72 ms\n",
      "Done.\n",
      "\u001b[01;96mAdding parameter changes to user_nl_mom:\u001b[0m\n",
      "\n",
      "  ! Initial conditions\n",
      "  INIT_LAYERS_FROM_Z_FILE = True\n",
      "  TEMP_SALT_Z_INIT_FILE = init_tracers.nc\n",
      "  Z_INIT_FILE_PTEMP_VAR = temp\n",
      "  Z_INIT_ALE_REMAPPING = True\n",
      "  TEMP_SALT_INIT_VERTICAL_REMAP_ONLY = True\n",
      "  DEPRESS_INITIAL_SURFACE = True\n",
      "  SURFACE_HEIGHT_IC_FILE = init_eta.nc\n",
      "  SURFACE_HEIGHT_IC_VAR = eta_t\n",
      "  VELOCITY_CONFIG = file\n",
      "  VELOCITY_FILE = init_vel.nc\n",
      "\n",
      "  ! Open boundary conditions\n",
      "  OBC_NUMBER_OF_SEGMENTS = 4\n",
      "  OBC_FREESLIP_VORTICITY = False\n",
      "  OBC_FREESLIP_STRAIN = False\n",
      "  OBC_COMPUTED_VORTICITY = True\n",
      "  OBC_COMPUTED_STRAIN = True\n",
      "  OBC_ZERO_BIHARMONIC = True\n",
      "  OBC_TRACER_RESERVOIR_LENGTH_SCALE_OUT = 3.0E+04\n",
      "  OBC_TRACER_RESERVOIR_LENGTH_SCALE_IN = 3000.0\n",
      "  BRUSHCUTTER_MODE = True\n",
      "  OBC_SEGMENT_001 = \"J=0,I=0:N,FLATHER,ORLANSKI,NUDGED,ORLANSKI_TAN,NUDGED_TAN\"\n",
      "  OBC_SEGMENT_001_VELOCITY_NUDGING_TIMESCALES = 0.3, 360.0\n",
      "  OBC_SEGMENT_001_DATA = \"U=file:forcing_obc_segment_001.nc(u),V=file:forcing_obc_segment_001.nc(v),SSH=file:forcing_obc_segment_001.nc(eta),TEMP=file:forcing_obc_segment_001.nc(temp),SALT=file:forcing_obc_segment_001.nc(salt)\"\n",
      "  OBC_SEGMENT_002 = \"J=N,I=N:0,FLATHER,ORLANSKI,NUDGED,ORLANSKI_TAN,NUDGED_TAN\"\n",
      "  OBC_SEGMENT_002_VELOCITY_NUDGING_TIMESCALES = 0.3, 360.0\n",
      "  OBC_SEGMENT_002_DATA = \"U=file:forcing_obc_segment_002.nc(u),V=file:forcing_obc_segment_002.nc(v),SSH=file:forcing_obc_segment_002.nc(eta),TEMP=file:forcing_obc_segment_002.nc(temp),SALT=file:forcing_obc_segment_002.nc(salt)\"\n",
      "  OBC_SEGMENT_003 = \"I=0,J=N:0,FLATHER,ORLANSKI,NUDGED,ORLANSKI_TAN,NUDGED_TAN\"\n",
      "  OBC_SEGMENT_003_VELOCITY_NUDGING_TIMESCALES = 0.3, 360.0\n",
      "  OBC_SEGMENT_003_DATA = \"U=file:forcing_obc_segment_003.nc(u),V=file:forcing_obc_segment_003.nc(v),SSH=file:forcing_obc_segment_003.nc(eta),TEMP=file:forcing_obc_segment_003.nc(temp),SALT=file:forcing_obc_segment_003.nc(salt)\"\n",
      "  OBC_SEGMENT_004 = \"I=N,J=0:N,FLATHER,ORLANSKI,NUDGED,ORLANSKI_TAN,NUDGED_TAN\"\n",
      "  OBC_SEGMENT_004_VELOCITY_NUDGING_TIMESCALES = 0.3, 360.0\n",
      "  OBC_SEGMENT_004_DATA = \"U=file:forcing_obc_segment_004.nc(u),V=file:forcing_obc_segment_004.nc(v),SSH=file:forcing_obc_segment_004.nc(eta),TEMP=file:forcing_obc_segment_004.nc(temp),SALT=file:forcing_obc_segment_004.nc(salt)\"\n",
      "\n",
      "./xmlchange RUN_STARTDATE=2020-01-01\n",
      "\n",
      "./xmlchange MOM6_MEMORY_MODE=dynamic_symmetric\n",
      "\n",
      "Case is ready to be built: /glade/u/home/altuntas/croc_cases/sub-glob-fresh-hawaii-t2\n"
     ]
    }
   ],
   "source": [
    "case.process_forcings()"
   ]
  },
  {
   "cell_type": "markdown",
   "metadata": {},
   "source": [
    "# Section 4: Build and run the case\n",
    "\n",
    "After completing the previous steps, you are ready to build and run your CESM case. Begin by navigating to the case root directory specified during the case creation. Before proceeding, review the `user_nl_mom` file located in the case directory. This file contains MOM6 parameter settings that were automatically generated by CrocoDash. Carefully examine these parameters and make any necessary adjustments to fine-tune the model for your specific requirements. While CrocoDash aims to provide a solid starting point, further tuning and adjustments are typically necessary to improve the model for your use case.\n",
    "\n",
    "Once you have reviewed and modified the parameters as needed, you can build and execute the case using the following commands: \n",
    "```\n",
    "./case.build\n",
    "./case.submit\n",
    "```"
   ]
  },
  {
   "cell_type": "code",
   "execution_count": null,
   "metadata": {},
   "outputs": [],
   "source": []
  }
 ],
 "metadata": {
  "kernelspec": {
   "display_name": "Python 3 (ipykernel)",
   "language": "python",
   "name": "python3"
  },
  "language_info": {
   "codemirror_mode": {
    "name": "ipython",
    "version": 3
   },
   "file_extension": ".py",
   "mimetype": "text/x-python",
   "name": "python",
   "nbconvert_exporter": "python",
   "pygments_lexer": "ipython3",
   "version": "3.12.10"
  }
 },
 "nbformat": 4,
 "nbformat_minor": 4
}
