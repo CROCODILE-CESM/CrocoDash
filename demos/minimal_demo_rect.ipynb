{
 "cells": [
  {
   "cell_type": "markdown",
   "metadata": {},
   "source": [
    "# Set up a rectangular regional CESM-MOM6 run\n",
    "\n",
    "A typical workflow of utilizing CrocoDash consists of four main steps:\n",
    "\n",
    "1. Generate a regional MOM6 domain.\n",
    "2. Create the CESM case.\n",
    "3. Prepare ocean forcing data.\n",
    "4. Build and run the case."
   ]
  },
  {
   "cell_type": "markdown",
   "metadata": {},
   "source": [
    "# SECTION 1: Generate a regional MOM6 domain\n",
    "\n",
    "We begin by defining a regional MOM6 domain using CrocoDash. To do so, we first generate a horizontal grid. We then generate the topography by remapping an existing bathymetric dataset to our horizontal grid. Finally, we define a vertical grid."
   ]
  },
  {
   "cell_type": "markdown",
   "metadata": {},
   "source": [
    "## Step 1.1: Horizontal Grid"
   ]
  },
  {
   "cell_type": "code",
   "execution_count": 1,
   "metadata": {},
   "outputs": [],
   "source": [
    "%load_ext autoreload\n",
    "%autoreload 2"
   ]
  },
  {
   "cell_type": "code",
   "execution_count": 2,
   "metadata": {},
   "outputs": [],
   "source": [
    "from CrocoDash.grid import Grid\n",
    "%matplotlib ipympl\n",
    "grid = Grid(\n",
    "  resolution = 0.05,\n",
    "  xstart = 280.0,\n",
    "  lenx = 5.0,\n",
    "  ystart = 37.0,\n",
    "  leny = 5.0,\n",
    "  name = \"EastCoast\",\n",
    ")"
   ]
  },
  {
   "cell_type": "code",
   "execution_count": 3,
   "metadata": {},
   "outputs": [
    {
     "data": {
      "application/vnd.jupyter.widget-view+json": {
       "model_id": "a7089d90c8f44a34ad839d841ade23c6",
       "version_major": 2,
       "version_minor": 0
      },
      "text/plain": [
       "GridEditor(children=(VBox(children=(VBox(children=(HTML(value='<h3>Grid Controls</h3>'), FloatSlider(value=0.0…"
      ]
     },
     "execution_count": 3,
     "metadata": {},
     "output_type": "execute_result"
    }
   ],
   "source": [
    "from CrocoDash.grid_editor import GridEditor\n",
    "editor = GridEditor(grid)\n",
    "editor"
   ]
  },
  {
   "cell_type": "code",
   "execution_count": 11,
   "metadata": {},
   "outputs": [],
   "source": [
    "grid = Grid(\n",
    "    resolution = editor.grid.resolution,\n",
    "    xstart = editor.grid.xstart,\n",
    "    lenx = editor.grid.lenx,\n",
    "    ystart = editor.grid.ystart,\n",
    "    leny = editor.grid.leny,\n",
    "    name = editor.grid.name,\n",
    ")"
   ]
  },
  {
   "cell_type": "markdown",
   "metadata": {},
   "source": [
    "## Step 1.2: Topography"
   ]
  },
  {
   "cell_type": "code",
   "execution_count": 12,
   "metadata": {},
   "outputs": [],
   "source": [
    "from CrocoDash.topo import Topo\n",
    "\n",
    "topo = Topo(\n",
    "    grid = grid,\n",
    "    min_depth = 9.5,\n",
    ")"
   ]
  },
  {
   "cell_type": "code",
   "execution_count": 13,
   "metadata": {},
   "outputs": [
    {
     "name": "stdout",
     "output_type": "stream",
     "text": [
      "If bathymetry setup fails, rerun this function with write_to_file = True\n",
      "Begin regridding bathymetry...\n",
      "\n",
      "Original bathymetry size: 22.15 Mb\n",
      "Regridded size: 0.34 Mb\n",
      "Automatic regridding may fail if your domain is too big! If this process hangs or crashes,make sure function argument write_to_file = True and,open a terminal with appropriate computational and resources try calling ESMF directly in the input directory None via\n",
      "\n",
      "`mpirun -np NUMBER_OF_CPUS ESMF_Regrid -s bathymetry_original.nc -d bathymetry_unfinished.nc -m bilinear --src_var depth --dst_var depth --netcdf4 --src_regional --dst_regional`\n",
      "\n",
      "For details see https://xesmf.readthedocs.io/en/latest/large_problems_on_HPC.html\n",
      "\n",
      "Afterwards, we run the 'expt.tidy_bathymetry' method to skip the expensive interpolation step, and finishing metadata, encoding and cleanup.\n",
      "\n",
      "\n",
      "\n",
      "Regridding successful! Now calling `tidy_bathymetry` method for some finishing touches...\n",
      "setup bathymetry has finished successfully.\n",
      "Tidy bathymetry: Reading in regridded bathymetry to fix up metadata...done. Filling in inland lakes and channels... "
     ]
    }
   ],
   "source": [
    "bathymetry_name='/glade/derecho/scratch/manishrv/ice/croc/gebco/GEBCO_2024.nc'\n",
    "\n",
    "topo.interpolate_from_file(\n",
    "    file_path = bathymetry_name,\n",
    "    longitude_coordinate_name=\"lon\",\n",
    "    latitude_coordinate_name=\"lat\",\n",
    "    vertical_coordinate_name=\"elevation\"\n",
    ")"
   ]
  },
  {
   "cell_type": "markdown",
   "metadata": {},
   "source": [
    "**TODO:** when the above topo.interpolate_from_file() method is called with the original GEBCO dataset, the interpolation fails do to large computational demand when run on login nodes. Check if there is a failsafe way, or at least, a means to precaution the user.\n",
    "\n",
    "**TODO:** Make required data available online (not just on glade)."
   ]
  },
  {
   "cell_type": "code",
   "execution_count": 21,
   "metadata": {},
   "outputs": [
    {
     "data": {
      "application/vnd.jupyter.widget-view+json": {
       "model_id": "c94f874fc1bc4c0498284fb2070bf71d",
       "version_major": 2,
       "version_minor": 0
      },
      "text/plain": [
       "TopoEditor(children=(VBox(children=(HTML(value='<h2>Topo Editor</h2>'), VBox(children=(VBox(children=(HTML(val…"
      ]
     },
     "execution_count": 21,
     "metadata": {},
     "output_type": "execute_result"
    }
   ],
   "source": [
    "# Erase Pacific & Canada Bays\n",
    "from CrocoDash.topo_editor import TopoEditor\n",
    "\n",
    "topo.depth[\"units\"] = \"m\"\n",
    "\n",
    "TopoEditor(topo)"
   ]
  },
  {
   "cell_type": "markdown",
   "metadata": {},
   "source": [
    "## Step 1.3: Vertical Grid"
   ]
  },
  {
   "cell_type": "code",
   "execution_count": 37,
   "metadata": {},
   "outputs": [],
   "source": [
    "from CrocoDash.vgrid import VGrid\n",
    "\n",
    "vgrid  = VGrid.hyperbolic(\n",
    "    nk = 75,\n",
    "    depth = topo.max_depth,\n",
    "    ratio=20.0\n",
    ")"
   ]
  },
  {
   "cell_type": "code",
   "execution_count": 40,
   "metadata": {},
   "outputs": [
    {
     "data": {
      "application/vnd.jupyter.widget-view+json": {
       "model_id": "f52c849754bd45d5a9b1576f5a8c458d",
       "version_major": 2,
       "version_minor": 0
      },
      "text/plain": [
       "VGridEditor(children=(VBox(children=(VBox(children=(HTML(value='<h3>Vertical Grid Controls</h3>'), ToggleButto…"
      ]
     },
     "execution_count": 40,
     "metadata": {},
     "output_type": "execute_result"
    }
   ],
   "source": [
    "from mom6_bathy.vgrid_editor import VGridEditor\n",
    "editor = VGridEditor(vgrid=vgrid)\n",
    "editor"
   ]
  },
  {
   "cell_type": "code",
   "execution_count": 39,
   "metadata": {},
   "outputs": [
    {
     "data": {
      "application/vnd.jupyter.widget-view+json": {
       "model_id": "a2fe911f9c1640a09914a0085e3c7721",
       "version_major": 2,
       "version_minor": 0
      },
      "image/png": "[encoded data removed]",
      "text/html": [
       "\n",
       "            <div style=\"display: inline-block;\">\n",
       "                <div class=\"jupyter-widgets widget-label\" style=\"text-align: center;\">\n",
       "                    Figure 18\n",
       "                </div>\n",
       "                <img src='data:image/png;base64,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' width=600.0/>\n",
       "            </div>\n",
       "        "
      ],
      "text/plain": [
       "Canvas(toolbar=Toolbar(toolitems=[('Home', 'Reset original view', 'home', 'home'), ('Back', 'Back to previous …"
      ]
     },
     "metadata": {},
     "output_type": "display_data"
    }
   ],
   "source": [
    "import matplotlib.pyplot as plt\n",
    "plt.close()\n",
    "# Create the plot\n",
    "for depth in vgrid.z:\n",
    "    plt.axhline(y=depth, linestyle='-')  # Horizontal lines\n",
    "\n",
    "plt.ylim(max(vgrid.z) + 10, min(vgrid.z) - 10)  # Invert y-axis so deeper values go down\n",
    "plt.ylabel(\"Depth\")\n",
    "plt.title(\"Vertical Grid\")\n",
    "plt.show()"
   ]
  },
  {
   "cell_type": "markdown",
   "metadata": {},
   "source": [
    "# SECTION 2: Create the CESM case\n",
    "\n",
    "After generating the MOM6 domain, the next step is to create a CESM case using CrocoDash. This process is straightforward and involves instantiating the CrocoDash Case object. The Case object requires the following inputs:\n",
    "\n",
    " - CESM Source Directory: A local path to a compatible CESM source copy.\n",
    " - Case Name: A unique name for the CESM case.\n",
    " - Input Directory: The directory where all necessary input files will be written.\n",
    " - MOM6 Domain Objects: The horizontal grid, topography, and vertical grid created in the previous section.\n",
    " - Project ID: (Optional) A project ID, if required by the machine."
   ]
  },
  {
   "cell_type": "markdown",
   "metadata": {},
   "source": [
    "## Step 2.1: Specify case name and directories:\n",
    "\n",
    "Begin by specifying the case name and the necessary directory paths. Ensure the CESM root directory points to your own local copy of CESM. Below is an example setup:"
   ]
  },
  {
   "cell_type": "code",
   "execution_count": 10,
   "metadata": {},
   "outputs": [],
   "source": [
    "from pathlib import Path"
   ]
  },
  {
   "cell_type": "code",
   "execution_count": 11,
   "metadata": {},
   "outputs": [],
   "source": [
    "# CESM case (experiment) name\n",
    "casename = \"panama-1\"\n",
    "\n",
    "# CESM source root (Update this path accordingly!!!)\n",
    "cesmroot = \"/glade/work/akwong/installs/CESM\"\n",
    "\n",
    "# Place where all your input files go \n",
    "inputdir = Path.home() / \"croc_input\" / casename\n",
    "    \n",
    "# CESM case directory\n",
    "caseroot = Path.home() / \"croc_cases\" / casename"
   ]
  },
  {
   "cell_type": "markdown",
   "metadata": {},
   "source": [
    "## Step 2.2: Create the Case\n",
    "\n",
    "To create the CESM case, instantiate the `Case` object as shown below. This will automatically set up the CESM case based on the provided inputs: The `cesmroot` argument specifies the path to your local CESM source directory.\n",
    "The `caseroot` argument defines the directory where the case will be created. CrocoDash will handle all necessary namelist modifications and XML changes to align with the MOM6 domain objects generated earlier."
   ]
  },
  {
   "cell_type": "code",
   "execution_count": 17,
   "metadata": {},
   "outputs": [
    {
     "name": "stderr",
     "output_type": "stream",
     "text": [
      "INFO:  csp_solver:CspSolver initialized.\n"
     ]
    },
    {
     "name": "stdout",
     "output_type": "stream",
     "text": [
      "\u001b[01;96mCreating case...\u001b[0m\n",
      "\n",
      "• Updating ccs_config/modelgrid_aliases_nuopc.xml file to include the new resolution \"panama-1\" consisting of the following component grids.\n",
      " atm grid: \"TL319\", lnd grid: \"TL319\", ocn grid: \"panama1\".\n",
      "\n",
      "• Updating ccs_config/component_grids_nuopc.xml file to include newly generated ocean grid \"panama1\" with the following properties:\n",
      " nx: 100, ny: 100. ocean mesh: /glade/u/home/akwong/croc_input/panama-1/ocnice/ESMF_mesh_panama1_db9281.nc.\u001b[0m\n",
      "\n",
      "\u001b[01;96mRunning the create_newcase tool with the following command:\u001b[0m\n",
      "\n",
      "/glade/work/akwong/installs/CESM/cime/scripts/create_newcase --compset 1850_DATM%JRA_SLND_SICE_MOM6_SROF_SGLC_SWAV --res panama-1 --case /glade/u/home/akwong/croc_cases/panama-1 --machine derecho --run-unsupported --project NCGD0011 --non-local \n",
      "\n",
      "\u001b[01;96mThe create_newcase command was successful.\u001b[0m\n",
      "\n",
      "\u001b[01;96mNavigating to the case directory:\u001b[0m\n",
      "\n",
      "cd /glade/u/home/akwong/croc_cases/panama-1\n",
      "\n",
      "\u001b[01;96mApply NTASK grid xml changes:\u001b[0m\n",
      "\n",
      "./xmlchange NTASKS_OCN=128 --non-local\n",
      "\n",
      "\u001b[01;96mRunning the case.setup script with the following command:\u001b[0m\n",
      "\n",
      "./case.setup --non-local\n",
      "\n",
      "\u001b[01;96mAdding parameter changes to user_nl_mom:\u001b[0m\n",
      "\n",
      "  ! Custom Horizonal Grid, Topography, and Vertical Grid\n",
      "  INPUTDIR = /glade/u/home/akwong/croc_input/panama-1/ocnice\n",
      "  TRIPOLAR_N = False\n",
      "  REENTRANT_X = False\n",
      "  REENTRANT_Y = False\n",
      "  NIGLOBAL = 100\n",
      "  NJGLOBAL = 100\n",
      "  GRID_CONFIG = mosaic\n",
      "  GRID_FILE = ocean_hgrid_panama1_db9281.nc\n",
      "  TOPO_CONFIG = file\n",
      "  TOPO_FILE = ocean_topog_panama1_db9281.nc\n",
      "  MAXIMUM_DEPTH = 2780.130017656834\n",
      "  MINIMUM_DEPTH = 9.5\n",
      "  NK = 75\n",
      "  COORD_CONFIG = none\n",
      "  ALE_COORDINATE_CONFIG = FILE:ocean_vgrid_panama1_db9281.nc\n",
      "  REGRIDDING_COORDINATE_MODE = Z*\n",
      "\n",
      "  ! Timesteps (based on grid resolution)\n",
      "  DT = 25.0\n",
      "  DT_THERM = 100.0\n",
      "\n"
     ]
    },
    {
     "name": "stderr",
     "output_type": "stream",
     "text": [
      "INFO:\tstage:SUCCESS: All stages are complete.\n"
     ]
    },
    {
     "name": "stdout",
     "output_type": "stream",
     "text": [
      "\u001b[1;32mCase created successfully at /glade/u/home/akwong/croc_cases/panama-1.\u001b[0m\n",
      "\n",
      "\u001b[01;96mTo further customize, build, and run the case, navigate to the case directory in your terminal. To create another case, restart the notebook.\u001b[0m\n",
      "\n"
     ]
    }
   ],
   "source": [
    "from CrocoDash.case import Case\n",
    "import os\n",
    "case = Case(\n",
    "    cesmroot = cesmroot,\n",
    "    caseroot = caseroot,\n",
    "    inputdir = inputdir,\n",
    "    ocn_grid = grid,\n",
    "    ocn_vgrid = vgrid,\n",
    "    ocn_topo = topo,\n",
    "    project = 'NCGD0011',\n",
    "    override = True, # CHANGE THIS TO FALSE AFTER YOU RUN THIS SUCCSESFULLY\n",
    "    machine = \"derecho\"\n",
    ")"
   ]
  },
  {
   "cell_type": "markdown",
   "metadata": {},
   "source": [
    "# Section 3: Prepare ocean forcing data\n",
    "\n",
    "We need to cut out our ocean forcing. The package expects an initial condition and one time-dependent segment per non-land boundary. Naming convention is `\"east_unprocessed\"` for segments and `\"ic_unprocessed\"` for the initial condition.\n",
    "\n",
    "In this notebook, we are forcing with the Copernicus Marine \"Glorys\" reanalysis dataset. There's a function in the `CrocoDash` package, called `configure_forcings`, that generates a bash script to download the correct boundary forcing files for your experiment. First, you will need to create an account with Copernicus, and then call `copernicusmarine login` to set up your login details on your machine. Then you can run the `get_glorys_data.sh` bash script.\n",
    "\n",
    "## Step 3.1 Configure Initial Conditions and Forcings\n"
   ]
  },
  {
   "cell_type": "code",
   "execution_count": 19,
   "metadata": {},
   "outputs": [
    {
     "name": "stdout",
     "output_type": "stream",
     "text": [
      "2025-05-27 22:39:32,880 - CrocoDash.raw_data_access.driver.load_functions - INFO - Functions have already been loaded. To reload, set self._loaded_functions to False\n"
     ]
    },
    {
     "name": "stderr",
     "output_type": "stream",
     "text": [
      "INFO:CrocoDash.raw_data_access.driver:Functions have already been loaded. To reload, set self._loaded_functions to False\n",
      "INFO:CrocoDash.raw_data_access.datasets.glorys:Downloading Glorys data from RDA to /glade/derecho/scratch/akwong/tmp/tmpftda0cv0/test_file.nc\n",
      "INFO:CrocoDash.raw_data_access.datasets.glorys:Downloading Glorys data from RDA to /glade/u/home/akwong/croc_input/panama-1/glorys/east_unprocessed.nc\n",
      "INFO:CrocoDash.raw_data_access.datasets.glorys:Downloading Glorys data from RDA to /glade/u/home/akwong/croc_input/panama-1/glorys/west_unprocessed.nc\n",
      "INFO:CrocoDash.raw_data_access.datasets.glorys:Downloading Glorys data from RDA to /glade/u/home/akwong/croc_input/panama-1/glorys/north_unprocessed.nc\n",
      "INFO:CrocoDash.raw_data_access.datasets.glorys:Downloading Glorys data from RDA to /glade/u/home/akwong/croc_input/panama-1/glorys/south_unprocessed.nc\n",
      "INFO:CrocoDash.raw_data_access.datasets.glorys:Downloading Glorys data from RDA to /glade/u/home/akwong/croc_input/panama-1/glorys/ic_unprocessed.nc\n"
     ]
    }
   ],
   "source": [
    "case.configure_forcings(\n",
    "    function_name = \"get_glorys_data_from_rda\",\n",
    "    date_range = [\"2020-01-01 00:00:00\", \"2020-01-09 00:00:00\"]\n",
    ")"
   ]
  },
  {
   "cell_type": "markdown",
   "metadata": {},
   "source": [
    "## Step 3.2 Run `get_glorys_data.sh`\n",
    "\n",
    "In a terminal session, locate the `get_glorys_data.sh` script and execute it to download the initial conditions and boundary conditions. Follow the instructions printed by the `configure_forcings` method above.\n"
   ]
  },
  {
   "cell_type": "markdown",
   "metadata": {},
   "source": [
    "**TODO:** user copernicusmarine python API within CrocoDash, instead of directing users to run it via CLI. Also, on a derecho login node, both CLI and API fails to run due to the computational demand. We also need to address that."
   ]
  },
  {
   "cell_type": "markdown",
   "metadata": {},
   "source": [
    "##  Step 3.3: Process forcing data\n",
    "\n",
    "In this final step, we call the `process_forcings` method of CrocoDash to cut out and interpolate the initial condition as well as all boundaries. CrocoDash also updates MOM6 runtime parameters and CESM xml variables accordingly."
   ]
  },
  {
   "cell_type": "code",
   "execution_count": 20,
   "metadata": {},
   "outputs": [
    {
     "name": "stderr",
     "output_type": "stream",
     "text": [
      "INFO:regional_mom6.regridding:Getting t points..\n",
      "INFO:regional_mom6.regridding:Creating Regridder\n",
      "INFO:regional_mom6.regridding:Creating Regridder\n",
      "INFO:regional_mom6.regridding:Creating Regridder\n"
     ]
    },
    {
     "name": "stdout",
     "output_type": "stream",
     "text": [
      "Setting up Initial Conditions\n",
      "Regridding Velocities... "
     ]
    },
    {
     "name": "stderr",
     "output_type": "stream",
     "text": [
      "INFO:regional_mom6.rotation:Getting rotation angle\n",
      "INFO:regional_mom6.rotation:Calculating grid rotation angle\n",
      "INFO:regional_mom6.regridding:Getting u points..\n",
      "INFO:regional_mom6.regridding:Getting v points..\n"
     ]
    },
    {
     "name": "stdout",
     "output_type": "stream",
     "text": [
      "Done.\n",
      "Regridding Tracers... Done.\n",
      "Regridding Free surface... Done.\n",
      "Saving outputs... "
     ]
    },
    {
     "name": "stderr",
     "output_type": "stream",
     "text": [
      "INFO:regional_mom6.regridding:Creating coordinates of the boundary q/u/v points\n",
      "INFO:regional_mom6.regridding:Creating Regridder\n",
      "INFO:regional_mom6.rotation:Getting rotation angle\n",
      "INFO:regional_mom6.rotation:Calculating grid rotation angle\n",
      "INFO:regional_mom6.regridding:Creating coordinates of the boundary q/u/v points\n",
      "INFO:regional_mom6.regridding:Filling in missing data horizontally, then vertically\n"
     ]
    },
    {
     "name": "stdout",
     "output_type": "stream",
     "text": [
      "done setting up initial condition.\n",
      "Processing south boundary velocity & tracers..."
     ]
    },
    {
     "name": "stderr",
     "output_type": "stream",
     "text": [
      "INFO:regional_mom6.regridding:Adding time dimension\n",
      "INFO:regional_mom6.regridding:Renaming vertical coordinate to nz_... in salt_segment_001\n",
      "INFO:regional_mom6.regridding:Replacing old depth coordinates with incremental integers\n",
      "INFO:regional_mom6.regridding:Adding perpendicular dimension to salt_segment_001\n",
      "INFO:regional_mom6.regridding:Renaming vertical coordinate to nz_... in temp_segment_001\n",
      "INFO:regional_mom6.regridding:Replacing old depth coordinates with incremental integers\n",
      "INFO:regional_mom6.regridding:Adding perpendicular dimension to temp_segment_001\n",
      "INFO:regional_mom6.regridding:Renaming vertical coordinate to nz_... in u_segment_001\n",
      "INFO:regional_mom6.regridding:Replacing old depth coordinates with incremental integers\n",
      "INFO:regional_mom6.regridding:Adding perpendicular dimension to u_segment_001\n",
      "INFO:regional_mom6.regridding:Renaming vertical coordinate to nz_... in v_segment_001\n",
      "INFO:regional_mom6.regridding:Replacing old depth coordinates with incremental integers\n",
      "INFO:regional_mom6.regridding:Adding perpendicular dimension to v_segment_001\n",
      "INFO:regional_mom6.regridding:Adding perpendicular dimension to eta_segment_001\n",
      "WARNING:regional_mom6.regridding:All NaNs filled b/c bathymetry wasn't provided to the function. Add bathymetry_path to the segment class to avoid this\n",
      "INFO:regional_mom6.regridding:Generating encoding dictionary\n",
      "INFO:regional_mom6.regridding:Creating coordinates of the boundary q/u/v points\n",
      "INFO:regional_mom6.regridding:Creating Regridder\n",
      "INFO:regional_mom6.rotation:Getting rotation angle\n",
      "INFO:regional_mom6.rotation:Calculating grid rotation angle\n",
      "INFO:regional_mom6.regridding:Creating coordinates of the boundary q/u/v points\n",
      "INFO:regional_mom6.regridding:Filling in missing data horizontally, then vertically\n",
      "INFO:regional_mom6.regridding:Adding time dimension\n"
     ]
    },
    {
     "name": "stdout",
     "output_type": "stream",
     "text": [
      "Done.\n",
      "Processing north boundary velocity & tracers..."
     ]
    },
    {
     "name": "stderr",
     "output_type": "stream",
     "text": [
      "INFO:regional_mom6.regridding:Renaming vertical coordinate to nz_... in salt_segment_002\n",
      "INFO:regional_mom6.regridding:Replacing old depth coordinates with incremental integers\n",
      "INFO:regional_mom6.regridding:Adding perpendicular dimension to salt_segment_002\n",
      "INFO:regional_mom6.regridding:Renaming vertical coordinate to nz_... in temp_segment_002\n",
      "INFO:regional_mom6.regridding:Replacing old depth coordinates with incremental integers\n",
      "INFO:regional_mom6.regridding:Adding perpendicular dimension to temp_segment_002\n",
      "INFO:regional_mom6.regridding:Renaming vertical coordinate to nz_... in u_segment_002\n",
      "INFO:regional_mom6.regridding:Replacing old depth coordinates with incremental integers\n",
      "INFO:regional_mom6.regridding:Adding perpendicular dimension to u_segment_002\n",
      "INFO:regional_mom6.regridding:Renaming vertical coordinate to nz_... in v_segment_002\n",
      "INFO:regional_mom6.regridding:Replacing old depth coordinates with incremental integers\n",
      "INFO:regional_mom6.regridding:Adding perpendicular dimension to v_segment_002\n",
      "INFO:regional_mom6.regridding:Adding perpendicular dimension to eta_segment_002\n",
      "WARNING:regional_mom6.regridding:All NaNs filled b/c bathymetry wasn't provided to the function. Add bathymetry_path to the segment class to avoid this\n",
      "INFO:regional_mom6.regridding:Generating encoding dictionary\n",
      "INFO:regional_mom6.regridding:Creating coordinates of the boundary q/u/v points\n",
      "INFO:regional_mom6.regridding:Creating Regridder\n",
      "INFO:regional_mom6.rotation:Getting rotation angle\n",
      "INFO:regional_mom6.rotation:Calculating grid rotation angle\n",
      "INFO:regional_mom6.regridding:Creating coordinates of the boundary q/u/v points\n",
      "INFO:regional_mom6.regridding:Filling in missing data horizontally, then vertically\n",
      "INFO:regional_mom6.regridding:Adding time dimension\n",
      "INFO:regional_mom6.regridding:Renaming vertical coordinate to nz_... in salt_segment_003\n",
      "INFO:regional_mom6.regridding:Replacing old depth coordinates with incremental integers\n",
      "INFO:regional_mom6.regridding:Adding perpendicular dimension to salt_segment_003\n"
     ]
    },
    {
     "name": "stdout",
     "output_type": "stream",
     "text": [
      "Done.\n",
      "Processing west boundary velocity & tracers..."
     ]
    },
    {
     "name": "stderr",
     "output_type": "stream",
     "text": [
      "INFO:regional_mom6.regridding:Renaming vertical coordinate to nz_... in temp_segment_003\n",
      "INFO:regional_mom6.regridding:Replacing old depth coordinates with incremental integers\n",
      "INFO:regional_mom6.regridding:Adding perpendicular dimension to temp_segment_003\n",
      "INFO:regional_mom6.regridding:Renaming vertical coordinate to nz_... in u_segment_003\n",
      "INFO:regional_mom6.regridding:Replacing old depth coordinates with incremental integers\n",
      "INFO:regional_mom6.regridding:Adding perpendicular dimension to u_segment_003\n",
      "INFO:regional_mom6.regridding:Renaming vertical coordinate to nz_... in v_segment_003\n",
      "INFO:regional_mom6.regridding:Replacing old depth coordinates with incremental integers\n",
      "INFO:regional_mom6.regridding:Adding perpendicular dimension to v_segment_003\n",
      "INFO:regional_mom6.regridding:Adding perpendicular dimension to eta_segment_003\n",
      "WARNING:regional_mom6.regridding:All NaNs filled b/c bathymetry wasn't provided to the function. Add bathymetry_path to the segment class to avoid this\n",
      "INFO:regional_mom6.regridding:Generating encoding dictionary\n",
      "INFO:regional_mom6.regridding:Creating coordinates of the boundary q/u/v points\n",
      "INFO:regional_mom6.regridding:Creating Regridder\n",
      "INFO:regional_mom6.rotation:Getting rotation angle\n",
      "INFO:regional_mom6.rotation:Calculating grid rotation angle\n",
      "INFO:regional_mom6.regridding:Creating coordinates of the boundary q/u/v points\n",
      "INFO:regional_mom6.regridding:Filling in missing data horizontally, then vertically\n",
      "INFO:regional_mom6.regridding:Adding time dimension\n",
      "INFO:regional_mom6.regridding:Renaming vertical coordinate to nz_... in salt_segment_004\n",
      "INFO:regional_mom6.regridding:Replacing old depth coordinates with incremental integers\n",
      "INFO:regional_mom6.regridding:Adding perpendicular dimension to salt_segment_004\n"
     ]
    },
    {
     "name": "stdout",
     "output_type": "stream",
     "text": [
      "Done.\n",
      "Processing east boundary velocity & tracers..."
     ]
    },
    {
     "name": "stderr",
     "output_type": "stream",
     "text": [
      "INFO:regional_mom6.regridding:Renaming vertical coordinate to nz_... in temp_segment_004\n",
      "INFO:regional_mom6.regridding:Replacing old depth coordinates with incremental integers\n",
      "INFO:regional_mom6.regridding:Adding perpendicular dimension to temp_segment_004\n",
      "INFO:regional_mom6.regridding:Renaming vertical coordinate to nz_... in u_segment_004\n",
      "INFO:regional_mom6.regridding:Replacing old depth coordinates with incremental integers\n",
      "INFO:regional_mom6.regridding:Adding perpendicular dimension to u_segment_004\n",
      "INFO:regional_mom6.regridding:Renaming vertical coordinate to nz_... in v_segment_004\n",
      "INFO:regional_mom6.regridding:Replacing old depth coordinates with incremental integers\n",
      "INFO:regional_mom6.regridding:Adding perpendicular dimension to v_segment_004\n",
      "INFO:regional_mom6.regridding:Adding perpendicular dimension to eta_segment_004\n",
      "WARNING:regional_mom6.regridding:All NaNs filled b/c bathymetry wasn't provided to the function. Add bathymetry_path to the segment class to avoid this\n",
      "INFO:regional_mom6.regridding:Generating encoding dictionary\n"
     ]
    },
    {
     "name": "stdout",
     "output_type": "stream",
     "text": [
      "Done.\n",
      "\u001b[01;96mAdding parameter changes to user_nl_mom:\u001b[0m\n",
      "\n",
      "  ! Initial conditions\n",
      "  INIT_LAYERS_FROM_Z_FILE = True\n",
      "  TEMP_SALT_Z_INIT_FILE = init_tracers.nc\n",
      "  Z_INIT_FILE_PTEMP_VAR = temp\n",
      "  Z_INIT_ALE_REMAPPING = True\n",
      "  TEMP_SALT_INIT_VERTICAL_REMAP_ONLY = True\n",
      "  DEPRESS_INITIAL_SURFACE = True\n",
      "  SURFACE_HEIGHT_IC_FILE = init_eta.nc\n",
      "  SURFACE_HEIGHT_IC_VAR = eta_t\n",
      "  VELOCITY_CONFIG = file\n",
      "  VELOCITY_FILE = init_vel.nc\n",
      "\n",
      "  ! Open boundary conditions\n",
      "  OBC_NUMBER_OF_SEGMENTS = 4\n",
      "  OBC_FREESLIP_VORTICITY = False\n",
      "  OBC_FREESLIP_STRAIN = False\n",
      "  OBC_COMPUTED_VORTICITY = True\n",
      "  OBC_COMPUTED_STRAIN = True\n",
      "  OBC_ZERO_BIHARMONIC = True\n",
      "  OBC_TRACER_RESERVOIR_LENGTH_SCALE_OUT = 3.0E+04\n",
      "  OBC_TRACER_RESERVOIR_LENGTH_SCALE_IN = 3000.0\n",
      "  BRUSHCUTTER_MODE = True\n",
      "  OBC_SEGMENT_001 = \"J=0,I=0:N,FLATHER,ORLANSKI,NUDGED,ORLANSKI_TAN,NUDGED_TAN\"\n",
      "  OBC_SEGMENT_001_VELOCITY_NUDGING_TIMESCALES = 0.3, 360.0\n",
      "  OBC_SEGMENT_001_DATA = \"U=file:forcing_obc_segment_001.nc(u),V=file:forcing_obc_segment_001.nc(v),SSH=file:forcing_obc_segment_001.nc(eta),TEMP=file:forcing_obc_segment_001.nc(temp),SALT=file:forcing_obc_segment_001.nc(salt)\"\n",
      "  OBC_SEGMENT_002 = \"J=N,I=N:0,FLATHER,ORLANSKI,NUDGED,ORLANSKI_TAN,NUDGED_TAN\"\n",
      "  OBC_SEGMENT_002_VELOCITY_NUDGING_TIMESCALES = 0.3, 360.0\n",
      "  OBC_SEGMENT_002_DATA = \"U=file:forcing_obc_segment_002.nc(u),V=file:forcing_obc_segment_002.nc(v),SSH=file:forcing_obc_segment_002.nc(eta),TEMP=file:forcing_obc_segment_002.nc(temp),SALT=file:forcing_obc_segment_002.nc(salt)\"\n",
      "  OBC_SEGMENT_003 = \"I=0,J=N:0,FLATHER,ORLANSKI,NUDGED,ORLANSKI_TAN,NUDGED_TAN\"\n",
      "  OBC_SEGMENT_003_VELOCITY_NUDGING_TIMESCALES = 0.3, 360.0\n",
      "  OBC_SEGMENT_003_DATA = \"U=file:forcing_obc_segment_003.nc(u),V=file:forcing_obc_segment_003.nc(v),SSH=file:forcing_obc_segment_003.nc(eta),TEMP=file:forcing_obc_segment_003.nc(temp),SALT=file:forcing_obc_segment_003.nc(salt)\"\n",
      "  OBC_SEGMENT_004 = \"I=N,J=0:N,FLATHER,ORLANSKI,NUDGED,ORLANSKI_TAN,NUDGED_TAN\"\n",
      "  OBC_SEGMENT_004_VELOCITY_NUDGING_TIMESCALES = 0.3, 360.0\n",
      "  OBC_SEGMENT_004_DATA = \"U=file:forcing_obc_segment_004.nc(u),V=file:forcing_obc_segment_004.nc(v),SSH=file:forcing_obc_segment_004.nc(eta),TEMP=file:forcing_obc_segment_004.nc(temp),SALT=file:forcing_obc_segment_004.nc(salt)\"\n",
      "\n",
      "./xmlchange RUN_STARTDATE=2020-01-01 --non-local\n",
      "\n",
      "./xmlchange MOM6_MEMORY_MODE=dynamic_symmetric --non-local\n",
      "\n",
      "Case is ready to be built: /glade/u/home/akwong/croc_cases/panama-1\n"
     ]
    }
   ],
   "source": [
    "case.process_forcings()"
   ]
  },
  {
   "cell_type": "markdown",
   "metadata": {},
   "source": [
    "# Section 4: Build and run the case\n",
    "\n",
    "After completing the previous steps, you are ready to build and run your CESM case. Begin by navigating to the case root directory specified during the case creation. Before proceeding, review the `user_nl_mom` file located in the case directory. This file contains MOM6 parameter settings that were automatically generated by CrocoDash. Carefully examine these parameters and make any necessary adjustments to fine-tune the model for your specific requirements. While CrocoDash aims to provide a solid starting point, further tuning and adjustments are typically necessary to improve the model for your use case.\n",
    "\n",
    "Once you have reviewed and modified the parameters as needed, you can build and execute the case using the following commands: \n",
    "```\n",
    "./case.build\n",
    "./case.submit\n",
    "```"
   ]
  }
 ],
 "metadata": {
  "kernelspec": {
   "display_name": "Python [conda env:CrocoDash]",
   "language": "python",
   "name": "conda-env-CrocoDash-py"
  },
  "language_info": {
   "codemirror_mode": {
    "name": "ipython",
    "version": 3
   },
   "file_extension": ".py",
   "mimetype": "text/x-python",
   "name": "python",
   "nbconvert_exporter": "python",
   "pygments_lexer": "ipython3",
   "version": "3.12.11"
  }
 },
 "nbformat": 4,
 "nbformat_minor": 4
}
