{
 "cells": [
  {
   "cell_type": "markdown",
   "metadata": {},
   "source": [
    "# Set up a regional MOM6 run within CESM framework (with CRR)\n",
    "\n",
    "Background: The independent, strong, package that sets up a regional MOM run is the regional-mom6 (RM6) package. There's a few things we wanted to add that are specific to the CESM, because we are running MOM inside the CESM. There's also new ways we want to gather grids that uses files on the NCAR glade file system.\n",
    "\n",
    "Motivation: There's a few different motivations. Since we have some, almost, \"NCAR-specific\" things, we don't want to put those into the *independent* package, RM6. In the spirit of that, Ashley developed an additional module/package called regional-casegen to setup the CESM side of things that takes in input from the RM6 workflow. Then, we needed to incorporate the new way of gathering grids. That's another module. This forces or speaks for the idea of a framework to use all the modules in this workflow. Having an overall umbrella that can work with multiple packages without fiddling with RM6 is an attractive proposition.\n",
    "\n",
    "Description: The framework here is called Crocodile Regional Ruckus (CRR). It, currently, holds four modules grid_gen, boundary_conditions, RM6, and regional-casegen. It's a lightweight package that ties together each part of the process into one package. A large part of the code is wrapping RM6. The major difference between the two is that CRR brings in the NCAR and derechp specific dependencies. CRR also uses explicit function definitions, so every function is completely standalone. This is a style change from regional mom6, which relies heavily on variables defined in the class object. Based on what style the user prefers, they can use RM6 to work through a workflow of setting up a regional case with CRR function calls at either end for grid generation and cesm setup, OR they can use just CRR to explicity call a function or two they require all the way up to the entire workflow. See a visualization: https://drive.google.com/file/d/1Y1FQnT741pcLVVOOl5qS1JphsuiXnVLv/view?usp=sharing\n",
    "\n",
    "Getting Familiar (Installation): Going with this flow, there are two demos to get used to the CRR. One is a \"minimal_demo\" that uses CRR for grid generation and regional casegen, but still majority uses RM6. It copies almost directly from the RM6 demo to show how little of a change it can be. The other demo is a \"with_CRR\" demo that uses CRR for everything. That still means a majority use of RM6, but just under the hood.\n",
    "\n",
    "Since CRR is derecho specific, we can add it to the python module search path from my dir and just use it. For the environment, on derecho, this path can work: /glade/work/manishrv/conda-envs/vroom_clean_env"
   ]
  },
  {
   "cell_type": "markdown",
   "metadata": {},
   "source": [
    "# SECTION 1: Setup up you MOM6 regional experiment\n",
    "\n",
    "This follows the normal workflow, copied from the `reanalysis_forced.ipynb` demo of [regional-mom6](https://github.com/COSIMA/regional-mom6/) but modified for a domain around Hawaii. See the documentation of the package for details and documentation"
   ]
  },
  {
   "cell_type": "code",
   "execution_count": 1,
   "metadata": {},
   "outputs": [],
   "source": [
    "import os\n",
    "from pathlib import Path\n",
    "import sys"
   ]
  },
  {
   "cell_type": "code",
   "execution_count": 2,
   "metadata": {},
   "outputs": [],
   "source": [
    "%load_ext autoreload\n",
    "%autoreload 2\n",
    "sys.path.insert(0, '/glade/u/home/manishrv/documents/nwa12_0.1/regional_mom_workflows/crr')\n",
    "import crocodileregionalruckus as crr\n"
   ]
  },
  {
   "cell_type": "markdown",
   "metadata": {},
   "source": [
    "## Step 1: Initialize our regional package, and define any variables we want to store (Choose domain)\n",
    "One of the differences between CRR and RMOM6 is *supposed* to be that CRR functions for setting up a regional MOM6 run have explicit arguments. That means that initialization of the crr object doesn't have to have any arguments - OR it can have just as many as RMOM6. It's up to the user. They don't do anything intrinsically."
   ]
  },
  {
   "cell_type": "code",
   "execution_count": 3,
   "metadata": {},
   "outputs": [],
   "source": [
    "expt_name = \"pan-demo-all-crr\"\n",
    "\n",
    "latitude_extent = [6, 12]\n",
    "longitude_extent = [-86, -77]\n",
    "resolution = 0.5\n",
    "date_range = [\"2020-01-01 00:00:00\", \"2020-02-01 00:00:00\"]\n",
    "\n",
    "# Each of these arguments don't do anything, but can be used to pass in the necessary arguments to each function\n",
    "crr_obj = crr.driver.crr_driver(expt_name = expt_name, latitude_extent = latitude_extent, longitude_extent = longitude_extent, resolution = resolution, date_range = date_range)"
   ]
  },
  {
   "cell_type": "markdown",
   "metadata": {},
   "source": [
    "### Setup Output Directories"
   ]
  },
  {
   "cell_type": "code",
   "execution_count": 18,
   "metadata": {},
   "outputs": [],
   "source": [
    "\n",
    "\n",
    "## Place where all your input files go \n",
    "input_dir = Path(f\"/glade/u/home/manishrv/documents/nwa12_0.1/mom_input/{expt_name}/\")\n",
    "\n",
    "## Directory where you'll run the experiment from\n",
    "run_dir = Path(f\"/glade/u/home/manishrv/documents/nwa12_0.1/mom_run/{expt_name}/\")\n",
    "\n",
    "crr_obj.setup_directories(mom_run_dir = run_dir, mom_input_dir = input_dir)"
   ]
  },
  {
   "cell_type": "markdown",
   "metadata": {},
   "source": [
    "## Step 1.5: Grid Generation"
   ]
  },
  {
   "cell_type": "code",
   "execution_count": 5,
   "metadata": {},
   "outputs": [],
   "source": [
    "# Create Hgrid\n",
    "grid_gen_obj = crr_obj.grid_gen_obj\n",
    "rect_hgrid = grid_gen_obj.create_rectangular_hgrid(latitude_extent = latitude_extent, longitude_extent = longitude_extent, resolution = resolution)\n",
    "#subset_global_hgrid = grid_gen_obj.subset_global_hgrid(longitude_extent, latitude_extent)\n",
    "\n",
    "# Create Vgrid\n",
    "gen_vgrid = grid_gen_obj.create_vgrid(75,10, 5)\n",
    "\n",
    "# Move desired hgrid, and vgrid to mom_input with the filenames that regional mom6 recognizes\n",
    "rect_hgrid.to_netcdf(input_dir / \"hgrid.nc\")\n",
    "gen_vgrid.to_netcdf(input_dir / \"vcoord.nc\")"
   ]
  },
  {
   "cell_type": "markdown",
   "metadata": {},
   "source": [
    "## Step 3: Prepare ocean forcing data\n",
    "\n",
    "We need to cut out our ocean forcing. The package expects an initial condition and one time-dependent segment per non-land boundary. Naming convention is `\"east_unprocessed\"` for segments and `\"ic_unprocessed\"` for the initial condition.\n",
    "\n",
    "In this notebook, we are forcing with the Copernicus Marine \"Glorys\" reanalysis dataset. There's a function in the `mom6-regional` package that generates a bash script to download the correct boundary forcing files for your experiment. First, you will need to create an account with Copernicus, and then call `copernicusmarine login` to set up your login details on your machine. Then you can run the `get_glorys_data.sh` bash script.\n",
    "\n",
    "The function is called `get_glorys_rectangular` because the fully automated setup is only supported for domains with boundaries parallel to lines of longitude and latitude. To download more complex domain shapes you can call `rmom6.get_glorys_data` directly."
   ]
  },
  {
   "cell_type": "code",
   "execution_count": 28,
   "metadata": {},
   "outputs": [
    {
     "name": "stdout",
     "output_type": "stream",
     "text": [
      "script `get_glorys_data.sh` has been created at /glade/work/manishrv/inputs_rm6/pan-demo-crr.\n",
      " Run this script via bash to download the data from a terminal with internet access. \n",
      "You will need to enter your Copernicus Marine username and password.\n",
      "If you don't have an account, make one here:\n",
      "https://data.marine.copernicus.eu/register\n"
     ]
    }
   ],
   "source": [
    "glorys_path = Path(\"/glade/work/manishrv/inputs_rm6/pan-demo-crr/\")\n",
    "crr_obj.get_glorys_rectangular(\n",
    "    raw_boundaries_path=glorys_path,\n",
    "    boundaries=[\"north\", \"south\", \"east\", \"west\"],\n",
    ")"
   ]
  },
  {
   "cell_type": "markdown",
   "metadata": {},
   "source": [
    "## Step 4: Set up bathymetry with grid gen\n",
    "\n",
    "Similarly to ocean forcing, we point the experiment's `setup_bathymetry` method at the location of the file of choice and also provide the variable names. We don't need to preprocess the bathymetry since it is simply a two-dimensional field and is easier to deal with. Afterwards you can inspect `expt.bathymetry` to have a look at the regional domain.\n",
    "\n",
    "After running this cell, your input directory will contain other bathymetry-related things like the ocean mosaic and mask table too. The mask table defaults to a 10x10 layout and can be modified later."
   ]
  },
  {
   "cell_type": "code",
   "execution_count": 6,
   "metadata": {},
   "outputs": [
    {
     "name": "stdout",
     "output_type": "stream",
     "text": [
      "Begin regridding bathymetry...\n",
      "\n",
      "Original bathymetry size: 32.29 Mb\n",
      "Regridded size: 0.01 Mb\n",
      "Automatic regridding may fail if your domain is too big! If this process hangs or crashes,open a terminal with appropriate computational and resources try calling ESMF directly in the input directory /glade/u/home/manishrv/documents/nwa12_0.1/mom_input/pan-demo-all-crr via\n",
      "\n",
      "`mpirun -np NUMBER_OF_CPUS ESMF_Regrid -s bathymetry_original.nc -d bathymetry_unfinished.nc -m bilinear --src_var elevation --dst_var elevation --netcdf4 --src_regional --dst_regional`\n",
      "\n",
      "For details see https://xesmf.readthedocs.io/en/latest/large_problems_on_HPC.html\n",
      "\n",
      "Afterwards, run the 'expt.tidy_bathymetry' method to skip the expensive interpolation step, and finishing metadata, encoding and cleanup.\n",
      "\n",
      "\n",
      "\n",
      "Regridding successful! Now calling `tidy_bathymetry` method for some finishing touches...\n",
      "Tidy bathymetry: Reading in regridded bathymetry to fix up metadata...done. Filling in inland lakes and channels... done.\n",
      "setup bathymetry has finished successfully.\n"
     ]
    }
   ],
   "source": [
    "bathymetry_path='/glade/u/home/manishrv/manish_scratch_symlink/inputs_rm6/gebco/GEBCO_2024.nc'\n",
    "min_depth = 5\n",
    "hgrid = rect_hgrid\n",
    "topo = grid_gen_obj.setup_bathymetry(input_dir =  input_dir,\n",
    "                                              longitude_extent=longitude_extent, \n",
    "                                              latitude_extent = latitude_extent, \n",
    "                                              minimum_depth = min_depth,  \n",
    "                                              bathymetry_path = bathymetry_path, \n",
    "                                              longitude_coordinate_name=\"lon\", \n",
    "                                              latitude_coordinate_name=\"lat\", \n",
    "                                              vertical_coordinate_name=\"elevation\", \n",
    "                                              hgrid = hgrid)\n",
    "# OR, once angled grids work inside of MOM6\n",
    "# expt.bathymetry = grid_gen_obj.subset_global_topo(longitude_extent, latitude_extent)\n",
    "\n",
    "\n",
    "\n",
    "# Export to MOM directory\n",
    "temp = topo"
   ]
  },
  {
   "cell_type": "markdown",
   "metadata": {},
   "source": [
    "### Check out your domain:"
   ]
  },
  {
   "cell_type": "code",
   "execution_count": 10,
   "metadata": {},
   "outputs": [],
   "source": [
    "import matplotlib.pyplot as plt\n"
   ]
  },
  {
   "cell_type": "code",
   "execution_count": 11,
   "metadata": {
    "tags": [
     "nbval-skip"
    ]
   },
   "outputs": [
    {
     "data": {
      "text/plain": [
       "<matplotlib.collections.QuadMesh at 0x7f9aa41de900>"
      ]
     },
     "execution_count": 11,
     "metadata": {},
     "output_type": "execute_result"
    },
    {
     "data": {
      "image/png": "[encoded data removed]",
      "text/plain": [
       "<Figure size 640x480 with 2 Axes>"
      ]
     },
     "metadata": {},
     "output_type": "display_data"
    }
   ],
   "source": [
    "crr_obj.grid_gen_obj.topo.depth.plot()"
   ]
  },
  {
   "cell_type": "code",
   "execution_count": 12,
   "metadata": {},
   "outputs": [
    {
     "data": {
      "text/plain": [
       "<matplotlib.collections.QuadMesh at 0x7f9aa4339a00>"
      ]
     },
     "execution_count": 12,
     "metadata": {},
     "output_type": "execute_result"
    },
    {
     "data": {
      "image/png": "[encoded data removed]",
      "text/plain": [
       "<Figure size 640x480 with 2 Axes>"
      ]
     },
     "metadata": {},
     "output_type": "display_data"
    }
   ],
   "source": [
    "# Then mask out parts of the domain we don't want by selecting a point in the ocean domain we do want.\n",
    "crr_obj.grid_gen_obj.topo = crr_obj.grid_gen_obj.mask_disconnected_ocean_areas(hgrid = crr_obj.grid_gen_obj.hgrid, topo = temp.depth[0], name_x_dim = \"x\", name_y_dim = \"y\", lat_pt = 10, lon_pt = -78)\n",
    "\n",
    "# Save to EXPT input directory\n",
    "crr_obj.grid_gen_obj.topo.depth.plot()"
   ]
  },
  {
   "cell_type": "markdown",
   "metadata": {},
   "source": [
    "##  Step 5: Handle the ocean forcing - where the magic happens\n",
    "\n",
    "This cuts out and interpolates the initial condition as well as all boundaries (unless you don't pass it boundaries).\n",
    "\n",
    "The dictionary maps the MOM6 variable names to what they're called in your ocean input file. Notice how for GLORYS, the horizontal dimensions are `latitude` and `longitude`, vs `xh`, `yh`, `xq`, `yq` for MOM6. This is because for an 'A' grid type tracers share the grid with velocities so there's no difference.\n",
    "\n",
    "If one of your segments is land, you can delete its string from the 'boundaries' list. You'll need to update MOM_input to reflect this though so it knows how many segments to look for, and their orientations."
   ]
  },
  {
   "cell_type": "code",
   "execution_count": 14,
   "metadata": {},
   "outputs": [
    {
     "name": "stdout",
     "output_type": "stream",
     "text": [
      "INITIAL CONDITIONS\n",
      "Regridding Velocities... Done.\n",
      "Regridding Tracers... Done.\n",
      "Regridding Free surface... Done.\n",
      "Saving outputs... done setting up initial condition.\n",
      "[########################################] | 100% Completed | 101.25 ms\n",
      "Done.\n",
      "[########################################] | 100% Completed | 101.20 ms\n",
      "Done.\n",
      "[########################################] | 100% Completed | 101.97 ms\n",
      "Done.\n",
      "[########################################] | 100% Completed | 101.95 ms\n",
      "Done.\n"
     ]
    }
   ],
   "source": [
    "## TBD Explicit Mapping - \n",
    "glorys_path = Path(f\"/glade/work/manishrv/inputs_rm6/pan-demo-crr\" )\n",
    "\n",
    "# Define a mapping from the GLORYS variables and dimensions to the MOM6 ones\n",
    "ocean_varnames = {\"time\": \"time\",\n",
    "                  \"yh\": \"latitude\",\n",
    "                  \"xh\": \"longitude\",\n",
    "                  \"zl\": \"depth\",\n",
    "                  \"eta\": \"zos\",\n",
    "                  \"u\": \"uo\",\n",
    "                  \"v\": \"vo\",\n",
    "                  \"tracers\": {\"salt\": \"so\", \"temp\": \"thetao\"}\n",
    "                  }\n",
    "\n",
    "# Set up the initial condition\n",
    "crr_obj.boundary_conditions_obj.setup_initial_condition(crr_obj.grid_gen_obj.hgrid, crr_obj.grid_gen_obj.vgrid,\n",
    "    glorys_path / \"ic_unprocessed.nc\", # directory where the unprocessed initial condition is stored, as defined earlier\n",
    "    ocean_varnames,\n",
    "    arakawa_grid=\"A\"\n",
    "    )    \n",
    "\n",
    "# Set up the four boundary conditions. Remember that in the glorys_path, we have four boundary files names north_unprocessed.nc etc. \n",
    "crr_obj.boundary_conditions_obj.setup_ocean_state_boundaries(crr_obj.grid_gen_obj.hgrid, crr_obj.grid_gen_obj.vgrid,crr_obj.date_range[0], \n",
    "        glorys_path,\n",
    "        ocean_varnames,\n",
    "        boundaries = [\"south\", \"north\", \"west\", \"east\"],\n",
    "        arakawa_grid = \"A\"\n",
    "        )"
   ]
  },
  {
   "cell_type": "code",
   "execution_count": 16,
   "metadata": {},
   "outputs": [
    {
     "name": "stdout",
     "output_type": "stream",
     "text": [
      "Processing south boundary...Done\n",
      "Processing north boundary...Done\n",
      "Processing west boundary...Done\n",
      "Processing east boundary...Done\n"
     ]
    }
   ],
   "source": [
    "crr_obj.boundary_conditions_obj.setup_boundary_tides(crr_obj.grid_gen_obj.hgrid, crr_obj.date_range[0],[\"M2\"],\"/glade/u/home/manishrv/manish_scratch_symlink/inputs_rm6/tidal_data\",\"tpxo9.v1.nc\")\n"
   ]
  },
  {
   "cell_type": "markdown",
   "metadata": {},
   "source": [
    "## Step 6: Modify the default input directory to make a (hopefully) runnable configuration out of the box\n",
    "\n",
    "This step copies the default directory and modifies the `MOM_layout` files to match your experiment by inserting the right number of x, y points and CPU layout.\n",
    "\n",
    "To run MOM6 using the [payu infrastructure](https://github.com/payu-org/payu), provide the keyword argument `using_payu = True` to the `setup_run_directory` method and an example `config.yaml` file will be appear in the run directory. The `config.yaml` file needs to be modified manually to add the locations of executables, etc."
   ]
  },
  {
   "cell_type": "code",
   "execution_count": 20,
   "metadata": {},
   "outputs": [
    {
     "name": "stdout",
     "output_type": "stream",
     "text": [
      "All files have been exported to /glade/u/home/manishrv/documents/nwa12_0.1/mom_input/pan-demo-all-crr\n",
      "All files have been exported to /glade/u/home/manishrv/documents/nwa12_0.1/mom_input/pan-demo-all-crr\n"
     ]
    }
   ],
   "source": [
    "# Export all variables required to your MOM input dir\n",
    "\n",
    "crr_obj.grid_gen_obj.export_files(crr_obj.mom_input_dir)\n",
    "crr_obj.boundary_conditions_obj.export_files(crr_obj.mom_input_dir)\n",
    "\n"
   ]
  },
  {
   "cell_type": "code",
   "execution_count": 22,
   "metadata": {},
   "outputs": [
    {
     "name": "stdout",
     "output_type": "stream",
     "text": [
      "WARNING: No mask table found, and the cpu layout has not been set. \n",
      "At least one of these is requiret to set up the experiment if you're running MOM6 standalone with the FMS coupler. \n",
      "If you're running within CESM, ignore this message.\n",
      "Deleting indexed OBC keys from MOM_input_dict in case we have a different number of segments\n",
      "Added MINIMUM_DEPTH to MOM_override with value {'value': 4.0, 'override': True, 'comment': None}\n",
      "Added NK to MOM_override with value {'value': 75, 'override': True, 'comment': None}\n",
      "Added OBC_NUMBER_OF_SEGMENTS to MOM_override with value {'value': 4, 'override': True, 'comment': None}\n",
      "Added OBC_FREESLIP_VORTICITY to MOM_override with value {'value': 'False', 'override': True, 'comment': None}\n",
      "Added OBC_FREESLIP_STRAIN to MOM_override with value {'value': 'False', 'override': True, 'comment': None}\n",
      "Added OBC_COMPUTED_VORTICITY to MOM_override with value {'value': 'True', 'override': True, 'comment': None}\n",
      "Added OBC_COMPUTED_STRAIN to MOM_override with value {'value': 'True', 'override': True, 'comment': None}\n",
      "Added OBC_ZERO_BIHARMONIC to MOM_override with value {'value': 'True', 'override': True, 'comment': None}\n",
      "Added OBC_TRACER_RESERVOIR_LENGTH_SCALE_OUT to MOM_override with value {'value': '3.0E+04', 'override': True, 'comment': None}\n",
      "Added OBC_TRACER_RESERVOIR_LENGTH_SCALE_IN to MOM_override with value {'value': '3000.0', 'override': True, 'comment': None}\n",
      "Added BRUSHCUTTER_MODE to MOM_override with value {'value': 'True', 'override': True, 'comment': None}\n",
      "Added OBC_SEGMENT_001 to MOM_override with value {'value': '\"J=0,I=0:N,FLATHER,ORLANSKI,NUDGED,ORLANSKI_TAN,NUDGED_TAN\"', 'override': True, 'comment': None}\n",
      "Added OBC_SEGMENT_001_VELOCITY_NUDGING_TIMESCALES to MOM_override with value {'value': '0.3, 360.0', 'override': True, 'comment': None}\n",
      "Added OBC_SEGMENT_001_DATA to MOM_override with value {'value': '\"U=file:forcing_obc_segment_001.nc(u),V=file:forcing_obc_segment_001.nc(v),SSH=file:forcing_obc_segment_001.nc(eta),TEMP=file:forcing_obc_segment_001.nc(temp),SALT=file:forcing_obc_segment_001.nc(salt)\"', 'override': True, 'comment': None}\n",
      "Added OBC_SEGMENT_002 to MOM_override with value {'value': '\"J=N,I=N:0,FLATHER,ORLANSKI,NUDGED,ORLANSKI_TAN,NUDGED_TAN\"', 'override': True, 'comment': None}\n",
      "Added OBC_SEGMENT_002_VELOCITY_NUDGING_TIMESCALES to MOM_override with value {'value': '0.3, 360.0', 'override': True, 'comment': None}\n",
      "Added OBC_SEGMENT_002_DATA to MOM_override with value {'value': '\"U=file:forcing_obc_segment_002.nc(u),V=file:forcing_obc_segment_002.nc(v),SSH=file:forcing_obc_segment_002.nc(eta),TEMP=file:forcing_obc_segment_002.nc(temp),SALT=file:forcing_obc_segment_002.nc(salt)\"', 'override': True, 'comment': None}\n",
      "Added OBC_SEGMENT_003 to MOM_override with value {'value': '\"I=0,J=N:0,FLATHER,ORLANSKI,NUDGED,ORLANSKI_TAN,NUDGED_TAN\"', 'override': True, 'comment': None}\n",
      "Added OBC_SEGMENT_003_VELOCITY_NUDGING_TIMESCALES to MOM_override with value {'value': '0.3, 360.0', 'override': True, 'comment': None}\n",
      "Added OBC_SEGMENT_003_DATA to MOM_override with value {'value': '\"U=file:forcing_obc_segment_003.nc(u),V=file:forcing_obc_segment_003.nc(v),SSH=file:forcing_obc_segment_003.nc(eta),TEMP=file:forcing_obc_segment_003.nc(temp),SALT=file:forcing_obc_segment_003.nc(salt)\"', 'override': True, 'comment': None}\n",
      "Added OBC_SEGMENT_004 to MOM_override with value {'value': '\"I=N,J=0:N,FLATHER,ORLANSKI,NUDGED,ORLANSKI_TAN,NUDGED_TAN\"', 'override': True, 'comment': None}\n",
      "Added OBC_SEGMENT_004_VELOCITY_NUDGING_TIMESCALES to MOM_override with value {'value': '0.3, 360.0', 'override': True, 'comment': None}\n",
      "Added OBC_SEGMENT_004_DATA to MOM_override with value {'value': '\"U=file:forcing_obc_segment_004.nc(u),V=file:forcing_obc_segment_004.nc(v),SSH=file:forcing_obc_segment_004.nc(eta),TEMP=file:forcing_obc_segment_004.nc(temp),SALT=file:forcing_obc_segment_004.nc(salt)\"', 'override': True, 'comment': None}\n"
     ]
    }
   ],
   "source": [
    "## TBD Explicit Mapping -  in Driver\n",
    "\n",
    "# Add the MOM_input mappings we need\n",
    "\n",
    "crr_obj.setup_run_directory(mom_input_dir=crr_obj.mom_input_dir, mom_run_dir=crr_obj.mom_run_dir,date_range = crr_obj.date_range,hgrid =  crr_obj.grid_gen_obj.hgrid,vgrid =  crr_obj.grid_gen_obj.vgrid,tidal_constituents=[\"M2\"],   surface_forcing = \"jra\")"
   ]
  },
  {
   "cell_type": "code",
   "execution_count": null,
   "metadata": {},
   "outputs": [],
   "source": [
    "# Adjust any parameters in the input directory we need to change.\n",
    "\n"
   ]
  },
  {
   "cell_type": "markdown",
   "metadata": {},
   "source": [
    "# SECTION 2: Create a blank CESM run\n",
    "\n",
    "So far I've used Alper's [GUI](https://github.com/ESMCI/visualCaseGen?tab=readme-ov-file) branch of CESM. Clone respective branch of CESM and then run the generate case command. Below is the command I used to generate a global, MOM6 only run forced with JRA data atmosphere\n",
    "\n",
    "`/glade/u/home/abarnes/cesm-runs/visualCaseGen/cesm2_3_beta17_gui/cime/scripts/create_newcase --compset 1850_DATM%JRA_SLND_SICE_MOM6_SROF_SGLC_SWAV --res TL319_t232 --case /glade/u/home/manishrv/cases/pan-demo-all-crr --machine derecho --run-unsupported --project p93300012 --non-local`"
   ]
  },
  {
   "cell_type": "code",
   "execution_count": 23,
   "metadata": {},
   "outputs": [],
   "source": [
    "# Save the path where the new CESM config lives, it's probably a bad idea to generate the CESM case from within crr/rm6\n",
    "CESM_path = Path(f\"/glade/u/home/manishrv/cases/pan-demo-all-crr\")"
   ]
  },
  {
   "cell_type": "markdown",
   "metadata": {},
   "source": [
    "# SECTION 3: Modify the CESM run to make it regional"
   ]
  },
  {
   "cell_type": "code",
   "execution_count": 24,
   "metadata": {},
   "outputs": [
    {
     "name": "stdout",
     "output_type": "stream",
     "text": [
      "Copying input.nml, diag_table, MOM_input_and MOM_override to /glade/u/home/manishrv/cases/pan-demo-all-crr/SourceMods/src.mom\n",
      "Adding NIGLOBAL = 18, NJGLOBAL = 12, and INPUTDIR = /glade/u/home/manishrv/documents/nwa12_0.1/mom_input/pan-demo-all-crr to MOM_override\n",
      "Removing references to MOM_layout in input.nml\n",
      "Add MOM_override to parameter_filename in input.nml\n",
      "Move all of the forcing files out of the forcing directory to the main inputdir\n",
      "Find and replace instances of forcing/ with nothing in the MOM_input file\n",
      "Find and replace instances of forcing/ with nothing in the MOM_input file\n",
      "Make ESMF grid and save to inputdir\n",
      "Make xml changes. Setting OCN_NX=18, OCN_NY=12\n",
      "MOM6_MEMORY_MODE=dynamic_symmetric\n",
      "OCN_DOMAIN_MESH, ICE_DOMAIN_MESH, MASK_MESH, MASK_GRID, OCN_GRID, ICE_GRID =/glade/u/home/manishrv/documents/nwa12_0.1/mom_input/pan-demo-all-crr/esmf_mesh.nc\n",
      "RUN_REFDATE, RUN_STARTDATE = 2020-01-01\n",
      "Make symlinks from the CESM directory to the mom input directory and the CESM run directory\n"
     ]
    }
   ],
   "source": [
    "## Regional CaseGen is part of crr\n",
    "\n",
    "reg_cas_obj = crr.regional_casegen.cesm_tools.RegionalCaseGen()\n",
    "\n",
    "## Only Change is to explicitly state what variables are needed\n",
    "reg_cas_obj.setup_cesm_explicit(hgrid = crr_obj.grid_gen_obj.hgrid,\n",
    "                                 CESMPath = CESM_path,\n",
    "                                 project = \"p93300612\", \n",
    "                                 mom_input_dir=crr_obj.mom_input_dir, \n",
    "                                 mom_run_dir=crr_obj.mom_run_dir,\n",
    "                                 date_range = crr_obj.date_range)"
   ]
  },
  {
   "cell_type": "markdown",
   "metadata": {},
   "source": [
    "Now hopefully doing the usual \n",
    "\n",
    "`./case.setup && ./case.build && ./case.submit` \n",
    "\n",
    "should at least run. Of course from here you'll have a lot of other things to fiddle around with to make it run *well!* "
   ]
  }
 ],
 "metadata": {
  "kernelspec": {
   "display_name": "vroom_clean_env",
   "language": "python",
   "name": "python3"
  },
  "language_info": {
   "codemirror_mode": {
    "name": "ipython",
    "version": 3
   },
   "file_extension": ".py",
   "mimetype": "text/x-python",
   "name": "python",
   "nbconvert_exporter": "python",
   "pygments_lexer": "ipython3",
   "version": "3.12.6"
  }
 },
 "nbformat": 4,
 "nbformat_minor": 4
}
